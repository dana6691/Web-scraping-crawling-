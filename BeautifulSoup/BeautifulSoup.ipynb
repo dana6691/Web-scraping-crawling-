{
 "metadata": {
  "language_info": {
   "codemirror_mode": {
    "name": "ipython",
    "version": 3
   },
   "file_extension": ".py",
   "mimetype": "text/x-python",
   "name": "python",
   "nbconvert_exporter": "python",
   "pygments_lexer": "ipython3",
   "version": "3.7.8-final"
  },
  "orig_nbformat": 2,
  "kernelspec": {
   "name": "python_defaultSpec_1598292151541",
   "display_name": "Python 3.7.8 64-bit"
  }
 },
 "nbformat": 4,
 "nbformat_minor": 2,
 "cells": [
  {
   "cell_type": "markdown",
   "metadata": {},
   "source": [
    "# basic"
   ]
  },
  {
   "cell_type": "code",
   "execution_count": 18,
   "metadata": {
    "tags": []
   },
   "outputs": [
    {
     "output_type": "stream",
     "name": "stdout",
     "text": "<title>네이버 만화 &gt; 요일별  웹툰 &gt; 전체웹툰</title> \n--------------------------------------------------------------------------------\n네이버 만화 > 요일별  웹툰 > 전체웹툰 \n--------------------------------------------------------------------------------\n<a href=\"#menu\" onclick=\"document.getElementById('menu').tabIndex=-1;document.getElementById('menu').focus();return false;\"><span>메인 메뉴로 바로가기</span></a> \n--------------------------------------------------------------------------------\n{'href': '#menu', 'onclick': \"document.getElementById('menu').tabIndex=-1;document.getElementById('menu').focus();return false;\"} \n--------------------------------------------------------------------------------\n#menu \n--------------------------------------------------------------------------------\n"
    }
   ],
   "source": [
    "#Beautiful Soup (install beautifulsoup4, lxml)\n",
    "from bs4 import BeautifulSoup\n",
    "import requests\n",
    "url = \"https://comic.naver.com/webtoon/weekday.nhn\"\n",
    "res = requests.get(url)\n",
    "res.raise_for_status()\n",
    "\n",
    "soup = BeautifulSoup(res.text,'lxml')\n",
    "separ_line = \"\\n\" + \"-\"*80\n",
    "print(soup.title, separ_line)\n",
    "print(soup.title.get_text(),separ_line)\n",
    "print(soup.a, separ_line) #print the first a element from soup object\n",
    "print(soup.a.attrs, separ_line) #detail information of a\n",
    "print(soup.a[\"href\"], separ_line) #a element of href"
   ]
  },
  {
   "cell_type": "code",
   "execution_count": 19,
   "metadata": {
    "tags": []
   },
   "outputs": [
    {
     "output_type": "stream",
     "name": "stdout",
     "text": "<a class=\"Nbtn_upload\" href=\"/mypage/myActivity.nhn\" onclick=\"nclk_v2(event,'olk.upload');\">웹툰 올리기</a> \n--------------------------------------------------------------------------------\n<a class=\"Nbtn_upload\" href=\"/mypage/myActivity.nhn\" onclick=\"nclk_v2(event,'olk.upload');\">웹툰 올리기</a>\n"
    }
   ],
   "source": [
    "#when we don't know about the website well\n",
    "print(soup.find(\"a\", attrs={\"class\":\"Nbtn_upload\"}),separ_line)#a element with class of Nbtn_upload\n",
    "print(soup.find(attrs={\"class\":\"Nbtn_upload\"})) #any element with class of Nbtn_upload"
   ]
  },
  {
   "cell_type": "markdown",
   "metadata": {},
   "source": [
    "# sibling & parent"
   ]
  },
  {
   "cell_type": "code",
   "execution_count": 21,
   "metadata": {
    "tags": []
   },
   "outputs": [
    {
     "output_type": "stream",
     "name": "stdout",
     "text": "<a href=\"/webtoon/detail.nhn?titleId=703846&amp;no=125\" onclick=\"nclk_v2(event,'rnk*p.cont','703846','1')\" title=\"여신강림-120화\">여신강림-120화</a> \n--------------------------------------------------------------------------------\n여신강림-120화 \n--------------------------------------------------------------------------------\n랜덤채팅의 그녀!-145. 해일(1) \n--------------------------------------------------------------------------------\n바른연애 길잡이-113 \n--------------------------------------------------------------------------------\n<ol class=\"asideBoxRank\" id=\"realTimeRankFavorite\">\n<li class=\"rank01\">\n<a href=\"/webtoon/detail.nhn?titleId=703846&amp;no=125\" onclick=\"nclk_v2(event,'rnk*p.cont','703846','1')\" title=\"여신강림-120화\">여신강림-120화</a>\n<span class=\"rankBox\">\n<img alt=\"변동없음\" height=\"10\" src=\"https://ssl.pstatic.net/static/comic/images/migration/common/arrow_no.gif\" title=\"변동없음\" width=\"7\"/> 0\n\t\t\t\t\t\t\n\t\t\t\t\t\n\t\t\t\t</span>\n</li>\n<li class=\"rank02\">\n<a href=\"/webtoon/detail.nhn?titleId=703852&amp;no=113\" onclick=\"nclk_v2(event,'rnk*p.cont','703852','2')\" title=\"바른연애 길잡이-113\">바른연애 길잡이-113</a>\n<span class=\"rankBox\">\n<img alt=\"변동없음\" height=\"10\" src=\"https://ssl.pstatic.net/static/comic/images/migration/common/arrow_no.gif\" title=\"변동없음\" width=\"7\"/> 0\n\t\t\t\t\t\t\n\t\t\t\t\t\n\t\t\t\t</span>\n</li>\n<li class=\"rank03\">\n<a href=\"/webtoon/detail.nhn?titleId=702608&amp;no=145\" onclick=\"nclk_v2(event,'rnk*p.cont','702608','3')\" title=\"랜덤채팅의 그녀!-145. 해일(1)\">랜덤채팅의 그녀!-145. 해일(1)</a>\n<span class=\"rankBox\">\n<img alt=\"변동없음\" height=\"10\" src=\"https://ssl.pstatic.net/static/comic/images/migration/common/arrow_no.gif\" title=\"변동없음\" width=\"7\"/> 0\n\t\t\t\t\t\t\n\t\t\t\t\t\n\t\t\t\t</span>\n</li>\n<li class=\"rank04\">\n<a href=\"/webtoon/detail.nhn?titleId=743139&amp;no=14\" onclick=\"nclk_v2(event,'rnk*p.cont','743139','4')\" title=\"한림체육관-14화\">한림체육관-14화</a>\n<span class=\"rankBox\">\n<img alt=\"변동없음\" height=\"10\" src=\"https://ssl.pstatic.net/static/comic/images/migration/common/arrow_no.gif\" title=\"변동없음\" width=\"7\"/> 0\n\t\t\t\t\t\t\n\t\t\t\t\t\n\t\t\t\t</span>\n</li>\n<li class=\"rank05\">\n<a href=\"/webtoon/detail.nhn?titleId=730656&amp;no=60\" onclick=\"nclk_v2(event,'rnk*p.cont','730656','5')\" title=\"사신소년-60화 대면\">사신소년-60화 대면</a>\n<span class=\"rankBox\">\n<img alt=\"변동없음\" height=\"10\" src=\"https://ssl.pstatic.net/static/comic/images/migration/common/arrow_no.gif\" title=\"변동없음\" width=\"7\"/> 0\n\t\t\t\t\t\t\n\t\t\t\t\t\n\t\t\t\t</span>\n</li>\n<li class=\"rank06\">\n<a href=\"/webtoon/detail.nhn?titleId=738487&amp;no=35\" onclick=\"nclk_v2(event,'rnk*p.cont','738487','6')\" title=\"하루만 네가 되고 싶어-35. ??? ?? ????\">하루만 네가 되고 싶어-35. ??? ?? ????</a>\n<span class=\"rankBox\">\n<img alt=\"순위상승\" height=\"10\" src=\"https://ssl.pstatic.net/static/comic/images/migration/common/arrow_up.gif\" title=\"순위상승\" width=\"7\"/>1\n\t\t\t\t\t\t\n\t\t\t\t\t\t\n\t\t\t\t\t\n\t\t\t\t</span>\n</li>\n<li class=\"rank07\">\n<a href=\"/webtoon/detail.nhn?titleId=738174&amp;no=37\" onclick=\"nclk_v2(event,'rnk*p.cont','738174','7')\" title=\"중증외상센터 : 골든 아워-37화 : 새로운 출발\">중증외상센터 : 골든 아워-37화 : 새로운 출발</a>\n<span class=\"rankBox\">\n<img alt=\"순위하락\" height=\"10\" src=\"https://ssl.pstatic.net/static/comic/images/migration/common/arrow_down.gif\" title=\"순위하락\" width=\"7\"/>1\n\t\t\t\t\t\t\n\t\t\t\t\t\t\n\t\t\t\t\t\t\n\t\t\t\t\t\n\t\t\t\t</span>\n</li>\n<li class=\"rank08\">\n<a href=\"/webtoon/detail.nhn?titleId=752072&amp;no=3\" onclick=\"nclk_v2(event,'rnk*p.cont','752072','8')\" title=\"후기-3화\">후기-3화</a>\n<span class=\"rankBox\">\n<img alt=\"변동없음\" height=\"10\" src=\"https://ssl.pstatic.net/static/comic/images/migration/common/arrow_no.gif\" title=\"변동없음\" width=\"7\"/> 0\n\t\t\t\t\t\t\n\t\t\t\t\t\n\t\t\t\t</span>\n</li>\n<li class=\"rank09\">\n<a href=\"/webtoon/detail.nhn?titleId=683496&amp;no=181\" onclick=\"nclk_v2(event,'rnk*p.cont','683496','9')\" title=\"신도림-시즌2 41. DUO\">신도림-시즌2 41. DUO</a>\n<span class=\"rankBox\">\n<img alt=\"변동없음\" height=\"10\" src=\"https://ssl.pstatic.net/static/comic/images/migration/common/arrow_no.gif\" title=\"변동없음\" width=\"7\"/> 0\n\t\t\t\t\t\t\n\t\t\t\t\t\n\t\t\t\t</span>\n</li>\n<li class=\"rank10\">\n<a href=\"/webtoon/detail.nhn?titleId=752803&amp;no=1\" onclick=\"nclk_v2(event,'rnk*p.cont','752803','10')\" title=\"관계의 종말-1화\">관계의 종말-1화</a>\n<span class=\"rankBox\">\n<img alt=\"변동없음\" height=\"10\" src=\"https://ssl.pstatic.net/static/comic/images/migration/common/arrow_no.gif\" title=\"변동없음\" width=\"7\"/> 0\n\t\t\t\t\t\t\n\t\t\t\t\t\n\t\t\t\t</span>\n</li>\n</ol> \n--------------------------------------------------------------------------------\n"
    }
   ],
   "source": [
    "rank1 = soup.find(\"li\", attrs={\"class\":\"rank01\"})\n",
    "print(rank1.a ,separ_line) #bring only a element\n",
    "print(rank1.a.get_text() ,separ_line) #text\n",
    "#find sibling\n",
    "rank2 = rank1.next_sibling.next_sibling #next list, in this case twice(maybe empty line between)\n",
    "rank3 = rank2.next_sibling.next_sibling \n",
    "print(rank3.a.get_text() ,separ_line)\n",
    "rank2 = rank3.previous_sibling.previous_sibling\n",
    "print(rank2.a.get_text() ,separ_line)\n",
    "#find parent(all list)\n",
    "print(rank1.parent ,separ_line)"
   ]
  },
  {
   "cell_type": "code",
   "execution_count": 23,
   "metadata": {
    "tags": []
   },
   "outputs": [
    {
     "output_type": "stream",
     "name": "stdout",
     "text": "\n바른연애 길잡이-113\n\n 0\n\t\t\t\t\t\t\n\t\t\t\t\t\n\t\t\t\t\n\n"
    }
   ],
   "source": [
    "#next list\n",
    "#using next_sibling\n",
    "print(rank1.next_sibling.next_sibling.get_text())"
   ]
  },
  {
   "cell_type": "code",
   "execution_count": null,
   "metadata": {},
   "outputs": [],
   "source": [
    "#find sibling - no need to care empty lines\n",
    "rank2 = rank1.find_next_sibling(\"li\")\n",
    "rank3 = rank2.find_next_sibling(\"li\")\n",
    "print(rank2.a.get_text())\n",
    "print(rank3.a.get_text())\n",
    "rank2 = rank3.find_previous_sibling(\"li\")\n",
    "print(rank2.a.get_text())"
   ]
  },
  {
   "cell_type": "code",
   "execution_count": null,
   "metadata": {},
   "outputs": [],
   "source": [
    "#find all next siblings\n",
    "print(rank1.find_next_siblings(\"li\"))"
   ]
  },
  {
   "cell_type": "code",
   "execution_count": null,
   "metadata": {},
   "outputs": [],
   "source": [
    "#find specific text\n",
    "webtoon = soup.find(\"a\", text=\"유미의 세포들\")\n",
    "print(webtoon)"
   ]
  },
  {
   "cell_type": "markdown",
   "metadata": {},
   "source": [
    "# www.naver.com comic example"
   ]
  },
  {
   "cell_type": "code",
   "execution_count": 24,
   "metadata": {
    "tags": []
   },
   "outputs": [
    {
     "output_type": "stream",
     "name": "stdout",
     "text": "인생존망\n뷰티풀 군바리\n윈드브레이커\n소녀의 세계\n백수세끼\n파이게임\n장씨세가 호위무사\n앵무살수\n야자괴담\n유일무이 로맨스\n칼가는 소녀\n오늘의 순정망화\n신의 탑\n평범한 8반\n히어로메이커\n링크보이\n데드라이프\n사장님을 잠금해제\n교환일기\n침범\n지옥\n닥터 하운드\n아는 여자애\n삶이 우리를 속일지라도\n결혼생활 그림일기\n서브 콤플렉스\n일진이 사나워\n이것도 친구라고\n꿈의 기업\n드로잉 레시피\n리턴 투 플레이어\n위대한 방옥숙\n피플\n도플갱어의 게임\n와이키키 뱀파이어\n정보전사 202\n노력의 결과\n원하는 건 너 하나\n여기 악마가 있어\n지구멸망버튼\n두근두근 네가 좋아서\n하슬라\n뱀파이어의 꽃\n백호랑\n중독연구소\n물레\n모락모락 왕세자님\n결백한 사람은 없다\n블루투스\n인간의 온도\n여신강림\n한림체육관\n바른연애 길잡이\n후기\n랜덤채팅의 그녀!\n사신소년\n헬58\n하루만 네가 되고 싶어\n신도림\n중증외상센터 : 골든 아워\n삼국지톡\n원주민 공포만화\n피와 살\n오늘의 순정망화\n체크포인트\n윌유메리미\n집이 없어\n견우와 선녀\n어글리 피플즈\n사이드킥 2~3\n언메이크\n용왕님의 셰프가 되었습니다\n땅 보고 걷는 아이\n3cm 헌터\n악마와 계약연애\n신의 언어\n문래빗\n제로게임\n정년이\n그놈은 흑염룡\n한강예찬\n오파츠\n은주의 방 2~3부\n그날 죽은 나는\n올가미\n숲속의 담\n자판귀\n도를 아십니까\n패밀리 사이즈\n별종\n너에게만 보이는\nㅋㄷㅋㄷ만화\n저세상 클라스!\n에이머\n안식의 밤\n조선홍보대행사 조대박\n필살VS로맨스\n아이고 아이고\n장단에 맞춰줘!\n빛빛빛\n하우스키퍼\n관계의 종말\n완벽한 가족\n고수\n복학왕\n헬퍼 2 : 킬베로스\n2020 최애캐의 MBTI\n전지적 독자 시점\n모죠의 일지\n튜토리얼 탑의 고인물\n격기3반\n연놈\n여주실격!\n일렉시드\n남주의 첫날밤을 가져버렸다\n캐슬\n빌드업\n로어 올림푸스\n원수를 사랑하라\n판타지 여동생!\n고삼무쌍\n닥터앤닥터 육아일기\n더 트웰브\n각자의 디데이\n귀곡의 문\n갓물주\n몰랐지만 괜찮아\n이츠마인\n레사 시즌2~3\n아도나이\n언덕 위의 제임스\n범이올시다!\n나쁜사람\n미래의 골동품 가게\n정순애 식당\n얼굴천재\n럭키언럭키\n수상한 비밀상담부\n텃밭부 사건일지\n칼부림\n당신의 향수\n새벽 두 시의 신데렐라\n스캔들\n나의 우주\n커넥트\n오버더문\n그 판타지 세계에서 사는 법\n인터셉트\n천도\n노선도\n기억흔적\n신선비\n비스타\n스몰\nFM보이\n저승사자 출입금지\n방탈출\n독립일기\n기기괴괴\n더 복서\n연애혁명\n이두나!\n화이트 블러드\n간 떨어지는 동거\n나노마신\n가담항설\n하드캐리\n겟백\n오늘의 순정망화\n선의의 경쟁\n전자오락수호대\n꽃만 키우는데 너무강함\n무사만리행\n트롤트랩\n가타부타타\n병의 기록\n당신의 과녁\n만물의 영장\n최강전설 강해효\n쿠베라\n신비\n무모협지\n집사레인저\n셧업앤댄스\n별을 삼킨 너에게\n안개무덤\n로그아웃\n어쩔꼰대\n롤랑롤랑\n킬더킹\n날 가져요\n소녀180\n셈하는 사이\n겟라이프\n미드나잇 체이서\n손아귀\n스테어스\n특수 영능력 수사반\n온새미로\n불릿 6미리\n갓도령스\n갑자기 커피\n밤하늘에 구름운\n열등의 조건\n깁스맨\n외모지상주의\n2020 최애캐의 MBTI\n갓 오브 하이스쿨\n살人스타그램\n개를 낳았다\n재혼 황후\n1초\nPOGO 공포단편선 - 혼집\n삼국지톡\n더 게이머\n낙향문사전\n걸어서 30분\n난약\n화장 지워주는 남자\n상남자\n피와 나비\n구남친이 내게 반했다\n사냥개들\n냐한남자\n플레이어\n현혹\n복학생 정순이\n백년게임\n옆집친구\n소심한 팔레트\n가슴털 로망스\n고래별\n신상 미스터리 극장\n금혼령-조선혼인금지령\n닥터 프로스트 시즌 3~4\n도롱이\n얌전한 사이\n후덜덜덜 남극전자\n구독금지\n사우러스\n골든 체인지\n너의 미소가 함정\n버그\n헬로도사\n구주의 시간\n개미\n9등급 뒤집기\n스윗솔티\n감히\n몽홀\n나쁜 쪽으로\n꼬맹이를 부탁해!\n합법해적 파르페\n나의 첫번째 새벽\n관계의 종말\n유미의 세포들\n호랑이형님\n프리드로우\n모죠의 일지\n취사병 전설이 되다\n회춘\n비질란테\n초인의 시대\n스터디그룹\n토끼대왕\n민간인 통제구역\n광해의 연인\n윌유메리미\n나이트런\n두번째 생일\n갓핑크\n나를 바꿔줘\n아홉수 우리들\n친애하는 X\n남자주인공의 여자사람친구입니다\n커피도둑\n먹이\n안녕, 이바다씨\n웰캄투실버라이프\n압락사스\n공유몽\n탑코너\n열불 로맨스\n동네몬스터\n틴맘\n동트는 로맨스\n저무는 해, 시린 눈\n피라미드 게임\n홍시는 날 좋아해!\n피노키오 소녀\n청춘 블라썸\n언데드\n왕세자 입학도\n아테나 컴플렉스\n11me\n거미\n우주최강대스타\n천사가 아니야\n꼬리 있는 연애\n도사 가온\n함부로 대해줘\n누군가의 로섬\n법대로 사랑하라\n먹지마세요\n어른의 계절\n독립일기\n2020 최애캐의 MBTI\n싸움독학\n운수 오진 날\n약한영웅\n열렙전사\n경비 배두만\n소녀재판\n이번 생도 잘 부탁해\n맘마미안\n로어 올림푸스\n도망자\n극야\n에리타\n닥터앤닥터 육아일기\n행성인간\n오로지 너를 이기고 싶어\n합격시켜주세용\n마법스크롤 상인 지오\n구름이 피워낸 꽃\n내일\n인어를 위한 수영교실\n다이스(DICE)\n강남도깨비\n학교정벌\n가비지타임\n아르세니아의 마법사\n별이삼샵\n평행도시\n패밀리 사이즈\n라일락 200%\n데이즈\n잉여특공대\n괴물신부\n웅이는 배고파\n인싸라이프\n신이 담긴 아이\n무주의 맹시\n소녀 해미\n여름은 뜨겁다\n꽃 피는 날\n죽여주는 탐정님\n오늘도 사랑하세요\n만찢남녀\n그녀의 버킷리스트\nHere U Are\n위험한 신입사원\n불발소년\n선녀야 야옹해봐!\n8월의 눈보라\n마도\n"
    }
   ],
   "source": [
    "from bs4 import BeautifulSoup\n",
    "url = \"https://comic.naver.com/webtoon/weekday.nhn\"\n",
    "res = requests.get(url)\n",
    "res.raise_for_status()\n",
    "soup = BeautifulSoup(res.text,'lxml')\n",
    "\n",
    "#naver webtoon list\n",
    "cartoons = soup.find_all(\"a\", attrs={\"class\":\"title\"})\n",
    "for cartoon in cartoons:\n",
    "    print(cartoon.get_text())"
   ]
  },
  {
   "cell_type": "code",
   "execution_count": 25,
   "metadata": {
    "tags": []
   },
   "outputs": [
    {
     "output_type": "stream",
     "name": "stdout",
     "text": "후기 + 10년 후 가우스 https://comic.naver.com/webtoon/detail.nhn?titleId=675554&no=911&weekday=mon\n시즌4 430화 내일 봐요 https://comic.naver.com/webtoon/detail.nhn?titleId=675554&no=910&weekday=mon\n시즌4 429화 잠행 https://comic.naver.com/webtoon/detail.nhn?titleId=675554&no=909&weekday=mon\n시즌4 428화 추억 https://comic.naver.com/webtoon/detail.nhn?titleId=675554&no=908&weekday=mon\n시즌4 427화 섬세한사람 https://comic.naver.com/webtoon/detail.nhn?titleId=675554&no=907&weekday=mon\n시즌4 426화 적응 https://comic.naver.com/webtoon/detail.nhn?titleId=675554&no=906&weekday=mon\n시즌4 425화 대견 https://comic.naver.com/webtoon/detail.nhn?titleId=675554&no=905&weekday=mon\n시즌4 424화 초빙강사 https://comic.naver.com/webtoon/detail.nhn?titleId=675554&no=904&weekday=mon\n시즌4 423화 추억의 물건 https://comic.naver.com/webtoon/detail.nhn?titleId=675554&no=903&weekday=mon\n시즌4 422화 아니요 https://comic.naver.com/webtoon/detail.nhn?titleId=675554&no=902&weekday=mon\n"
    }
   ],
   "source": [
    "import requests\n",
    "from bs4 import BeautifulSoup\n",
    "url = \"https://comic.naver.com/webtoon/list.nhn?titleId=675554\"\n",
    "res = requests.get(url)\n",
    "res.raise_for_status()\n",
    "soup = BeautifulSoup(res.text,'lxml')\n",
    "\n",
    "#list of 가우스전자 [title & link]\n",
    "cartoons = soup.find_all(\"td\", attrs={\"class\":\"title\"})\n",
    "for cartoon in cartoons:\n",
    "    title = cartoon.a.get_text()\n",
    "    link = \"https://comic.naver.com\" + cartoon.a[\"href\"]\n",
    "    print(title, link)"
   ]
  },
  {
   "cell_type": "code",
   "execution_count": 26,
   "metadata": {
    "tags": []
   },
   "outputs": [
    {
     "output_type": "stream",
     "name": "stdout",
     "text": "total score:  99.72\naverage score:  9.972\n"
    }
   ],
   "source": [
    "#Averate Rate of 가우스전자\n",
    "total_rates = 0\n",
    "cartoons = soup.find_all(\"div\",attrs={\"class\":\"rating_type\"})\n",
    "for cartoon in cartoons:\n",
    "    total_rates += float(rate)\n",
    "print(\"total score: \", total_rates)\n",
    "print(\"average score: \", total_rates / len(cartoons))"
   ]
  },
  {
   "cell_type": "markdown",
   "metadata": {},
   "source": [
    "# Ebay"
   ]
  },
  {
   "cell_type": "code",
   "execution_count": 27,
   "metadata": {
    "tags": []
   },
   "outputs": [
    {
     "output_type": "stream",
     "name": "stdout",
     "text": "DELL LATiTUDE LAPTOP WINDOWS 10 INTEL CORE 2 DUO DVD WiFi NOTEBOOK HD COMPUTER\nDELL LAPTOP LATiTUDE WINDOWS 10 CORE 2 DUO 4GB RAM WIN DVD WIFI PC HD COMPUTER\nHP LAPTOP COMPUTER PROBOOK WINDOWS 10 WIN 14\" 2.1GHz 4GB 320GB NOTEBOOK PC WiFi\nHP LAPTOP NOTEBOOK PC WINDOWS 10 WIN INTEL CORE 2 DUO 4GB 14.1\" HD DVD COMPUTER\nCHUWI HeroBook Pro 14.1 in Laptop Windows 10 Intel Dual Core 8+256G Notebook PC\nHP LAPTOP WINDOWS 10 PC CORE i5 2.4GHz 4GB RAM WiFi DVDRW NOTEBOOK 250GB HD WIN\nNew Listing15.6\" Lenovo ThinkPad T530 i5-3320M 2.6GHz 4GB 128GB SSD 65W power adpt included\nIBM LAPTOP LENOVO WINDOWS 10 WIN INTEL COMPUTER WIRELESS WIFI DVD NOTEBOOK PC\nNew ListingClean! hp ProBook 450 G1 Core i5-4200M 2.50Ghz 4GB Ram No HDD 15.6\" Laptop \nAcer Chromebook C720-2844 11.6\" Celeron 2955U 1.40GHz 4GB RAM 16GB SSD Chrome OS\nHP LAPTOP ELITEBOOK INTEL i5 16GB 1TB 512GB SSD HD DVD WINDOWS 10 WiFi NOTEBOOK\nDELL LATITUDE LAPTOP INTEL i5 2.50GHz 4GB 320GB HD WINDOWS 10 HDMI NOTEBOOK PC\nNew ListingHP 15-ef1079nr 15.6 inch (256GB, AMD Ryzen 3, 2.60GHz, 8GB) Notebook/Laptop -...\nNew ASUS Ultra-Thin 11.6 Laptop Intel DualCore CPU 64GB SSD Win10 1 Year Office\nIBM LENOVO LAPTOP THINKPAD 15.4\" WINDOWS 10 CORE 2 DUO CDRW DVD WiFi NOTEBOOK HD\nFast HP Core i3 Laptop Computer Windows 10 14\" HD Probook PC 4GB 250GB Wifi Cam\nSamsung Chromebook Computer Series 3 11.6\" 16GB SSD Wifi Webcam HDMI Grade - B\nDell Latitude Laptop HD LED Intel Core 2 Duo 4GB RAM DVD-RW WiFi Windows 10\nLenovo Laptop Yoga Quad Core CPU Touchscreen Windows 10 Webcam 4GB 128GB SSD\nSamsung XE303C12-A01US Exynos 5 Dual-Core 1.7GHz 2GB 16GB Chromebook with Webcam\nNew ListingHP 14-cm0012n Notebook 14\"  (32GB 1.50GHz 4GB Ram) 10/B4996A\nHP 15-BS212WM Notebook 15.6\" HD Celeron N4000 1.1GHz 4GB RAM 500GB HDD Win 10\nNEW HP 14\" Chromebook Laptop - AMD A4-9120, 32GB SSD, 4GB DDR4, Google Chrome OS\nDell Chromebook 11 3120 P22T001 11.6\" N2840 2.16GHz 4GB RAM 16GB SSD Non-Touch\nNew ListingHP 14\" Windows 7 Laptop Notebook Computer * WiFi * DVD * Bluetooth * Warranty\nLENOVO LAPTOP THINKPAD CORE i5 8GB 512GB SSD HD PRO WINDOWS 10 WiFi NOTEBOOK PC\nHP 10th Gen. Intel Core i7-1065 3.90GHz 24GB Memory 256GB SSD Drive 15.6\" Laptop\nHP 14-dk0022wm Notebook 14\" HD Ryzen 3 3200U 2.6GHz 4GB RAM 128GB SSD Win 10\nLENOVO LAPTOP 14 inch INTEL CORE i5 2.5GHz SSD 8GB RAM HD WEBCAM WINDOWS 10 WiFi\nHP Notebook x2 10-p020nr 10.1\" (32GB, Intel Atom Quad-Core, 1.44GHz, 4GB) Laptop\nHP LAPTOP PROBOOK WINDOWS 10 WIN A4 2.5GHz 4GB 320GB HD 14\" LED WiFi NOTEBOOK PC\nHP 15.6” HD (TouchScreen) Laptop Intel Core i3-8145U 3.90GHz 8GB 1TB HD BT Win10\nBack to School Laptop Dell Latitude i5 8GB RAM 128GB SSD Webcam WiFi Windows 10\nHP X360 310 G2 11.6\" Pentium N3700 1.6GHz 4GB RAM 128GB SSD Win 10 Home\nLENOVO LAPTOP THINKPAD CORE i5 16GB 512GB SSD HD WINDOWS 10 PRO WiFi NOTEBOOK PC\nNew ListingSamsung Notebook 7 Spin 13.3\" FHD Touchscreen Laptop Intel Core i5 7200U 1TB\nNEW HP 15-DY1024WM 15.6\" HD I3-1005G1 3.4GHz 4GB RAM 128GB SSD WINDOWS 10 LAPTOP\nNew ListingLenovo ThinkPad T440p - Intel Core i5-4300M 2.6GHz, 4GB DDR3, 500GB HDD, No OS\nThinkpad 11E Education Laptop Computer Windows 10 8GB 128GB SSD HDMI Webcam Mic\nDELL LAPTOP LATITUDE CORE i5 16GB 512GB SSD HD HDMI WINDOWS 10 WiFi NOTEBOOK PC\nHP Laptop Elitebook Folio 9480m Core i5 256GB SSD 8GB Memory Windows 10 Pro \n2020 Lenovo IdeaPad 3 15.6\" Laptop Intel i3-1005G,upto 3.4 GHz, 20GB RAM&1TB SSD\nNew ListingHP 15-dw0085nr 15.6\" Touchscreen Laptop Computer Intel Core i3 7020U 1TB\nDell Inspiron 13 5391 Laptop 13.3\" FHD Intel i5-10210U 256GB SSD 8GB RAM\nAcer Chromebook C720-2103 11.6\" 16GB Celeron, 1.40GHz, 4GB/16GB FREE SHIPPING\nASUS Laptop L406MA-WH02 Notebook 14\" 64GB Storage Wi-Fi Office 365 4GB RAM _ NEW\nNew ListingHP 15-BS013DX NOTEBOOK | INTEL CORE I3-7100U 2.40GHZ | 1TB | 8GB RAM\nNEW HP 15.6\" HD Red Laptop Intel Quad Core 2.7GHz 4GB RAM Webcam Windows 10\nNEW HP 15.6\" TOUCHSCREEN LAPTOP INTEL DUAL CORE 10TH GEN I3 3.4GHZ 8GB 256GB SSD\nDELL Latitude Laptop Windows 10 Pro Intel Core 2 Duo DVD WiFi Notebook Computer\nLENOVO LAPTOP T420s INTEL CORE i5 2.5GHz 128GB SSD HD WEBCAM WINDOWS 10 WIN WiFi\nNew ListingLenovo Thinkpad T440p Intel Core i5 2.60GHZ 8GB 500GB Windows 10 x64 DVDRW\nSamsung Chromebook 11.6\" XE303C12 Series 3 1.7GHz 16GB 2GB with Charger\nHP Chromebook 14 Intel Celeron Dual Core, 1.4GHz, 4GB, 16GB SSD - w/ Charger!\n2020 Newest HP Laptop AMD Dual Core CPU 8GB RAM Windows 10 Free 2-3 Day Shipping\nDELL LAPTOP NOTEBOOK CORE 4GB-8GB 250GB-1TB HD SSD 15.6\" DVD WINDOWS 10 WiFi PC\nSamsung Chromebook XE303C12 11.6in 16GB, Samsung Exynos 5 Dual NO CHARGER\nNew ListingHP Stream 13-c010nr Notebook PC Laptop Computer Used\nDell Precision M4600 15.6\" Laptop | i5 2.5GHz | 4GB | 320GB | NVIDIA | Win 10\nDell Latitude E6430 Laptop Intel Core i7 128GB SSD 8GB Win10 Pro w/E-Dock\nLenovo ThinkPad X1 Carbon Gen 7, 14.0\" FHD IPS  400 nits, i5-8265U\nHP Laptop EliteBook 810 Revolve G1 11.6\" Computer i5 8GB 120GB SSD Webcam Win 10\nDELL LAPTOP LATITUDE i5 16GB 1TB 512GB SSD HDMI PRO WINDOWS 10 WiFi NOTEBOOK PC\n"
    }
   ],
   "source": [
    "#list of notebook\n",
    "import requests\n",
    "from bs4 import BeautifulSoup\n",
    "url = \"https://www.ebay.com/sch/i.html?_from=R40&_nkw=notebook&_sacat=0&_pgn=1\"\n",
    "res = requests.get(url)\n",
    "res.raise_for_status()\n",
    "soup = BeautifulSoup(res.text,'lxml')\n",
    "laptops = soup.find_all(\"h3\",attrs={\"class\":\"s-item__title\"})\n",
    "for laptop in laptops:\n",
    "    print(laptop.get_text())"
   ]
  },
  {
   "cell_type": "markdown",
   "metadata": {},
   "source": [
    "# Coupang \n",
    "each product has the different class names</br>\n",
    "search all class starts with \"search-product\" "
   ]
  },
  {
   "cell_type": "code",
   "execution_count": 28,
   "metadata": {
    "tags": []
   },
   "outputs": [
    {
     "output_type": "stream",
     "name": "stdout",
     "text": "no rate\nno rate\n삼성전자 노트북 Plus NT550XCR-AD5A 퓨어 화이트 (i5-10210U 39.6cm), NVMe 256GB, 8GB, WIN10 Home 1,119,000 4.5 21\n삼성전자 갤럭시북 이온 노트북 NT950XCR-A38A 아우라 실버 (i3-10110U 39.6cm), NVMe 256GB, 8GB, WIN10 Home 1,410,000 4.5 16\nHP 노트북 14s-dq1016TU (i5-1035G1 35.5cm WIN10 RAM 4GB SSD 128GB FHD IPS), Snow White 637,200 4.5 17\nLG전자 그램 14 노트북 14ZD90N-VX30K 스노우 화이트 (i3-1005G1 35.5cm), NVMe 256GB, 8GB, Free DOS 1,159,000 4.5 32\nLG전자 울트라 PC 노트북 15UD490-GX5YK PRO 퓨어 화이트 (R5-2500U 39.6cm), SSD 256GB, 8GB, Free DOS 689,000 4.5 40\nno rate\n삼성전자 2020 갤럭시북 플렉스 NT950QCT-A58A 로얄블루 (i5-1035G4 39.6cm), NVMe 256GB, 8GB, WIN10 Home 1,927,000 4.5 72\nLG전자 울트라 PC 노트북 15UD480-GX3DK (i3-8130U 39.6cm), SSD 128GB, 4GB, Free DOS 598,000 4.5 69\nHP 15s-fq1075TU 다운로드 쿠폰할인 한컴오피스증정 전용키스킨증정 Nvme256GB 인텔10세대 i3 윈도우10프로 탑재, 8GB, Nvme SSD 256GB, 포함 639,000 4.5 28\n디클 클릭북 D14u (Celeron N4100 35.8cm WIN 10 eMMC 64GB m.2 SSD 128GB), 실버, 유선마우스 + 패드 449,000 4.5 111\n에이수스 ROG G531GT-AL106 (인텔 코어 i5-9300H 39.6cm 120Hz주사율 8GB RAM NVMe 512GB GTX1650 WIN미포함), G531, 혼합 색상 899,000 5.0 17\nno rate\nLG전자 그램14 노트북 14Z90N-VR36K 스노우 화이트 (i3-1005G1 35.5cm), NVMe 512GB, 8GB, WIN10 Home 1,408,700 5.0 29\nno rate\nApple 2019년 맥북 프로 터치바 16, 스페이스 그레이, i7-2.6GHz 6-core, SSD 512GB, 16GB 2,983,000 5.0 1161\nLG전자 2020년 그램17 노트북 17ZD90N-VX5BK (i5-1035G7 43.1cm), NVMe 256GB, 8GB, Free DOS 1,567,800 4.5 36\n마이크로소프트 서피스 고 LTE (펜티엄 골드 4415Y 25.4cm), 128GB, 8GB, 플래티넘 타입커버 994,000 5.0 24\n"
    }
   ],
   "source": [
    "import requests\n",
    "from bs4 import BeautifulSoup\n",
    "import re\n",
    "#second page url\n",
    "url = \"https://www.coupang.com/np/search?q=%EB%85%B8%ED%8A%B8%EB%B6%81&channel=user&component=&eventCategory=SRP&trcid=&traid=&sorter=scoreDesc&minPrice=&maxPrice=&priceRange=&filterType=&listSize=36&filter=&isPriceRange=false&brand=&offerCondition=&rating=0&page=2&rocketAll=false&searchIndexingToken=1=4&backgroundColor=\" \n",
    "headers = {\"User-Agent\":\"Mozilla/5.0 (Macintosh; Intel Mac OS X 10_15_5) AppleWebKit/537.36 (KHTML, like Gecko) Chrome/84.0.4147.125 Safari/537.36\"}\n",
    "res = requests.get(url, headers= headers)\n",
    "res.raise_for_status()\n",
    "soup = BeautifulSoup(res.text,'lxml')\n",
    "\n",
    "#items are not having same class name;all includes search-product\n",
    "items = soup.find_all(\"li\",attrs={\"class\":re.compile(\"^search-product\")})\n",
    "for item in items:\n",
    "    ######ad product remove\n",
    "    #ad_badge = item.find(\"span\", attrs={\"class\":\"ad-badge-text\"}})\n",
    "    #if ad_badge:\n",
    "    #    print(\"ad product removed\")\n",
    "    #    continue    free_delievery = item.find(\"span\", attrs={\"class\":\"badge-delivery \"})\n",
    "    name = item.find(\"div\", attrs={\"class\":\"name\"}).get_text()\n",
    "    price = item.find(\"strong\", attrs={\"class\":\"price-value\"}).get_text()\n",
    "    #if there's missing data, it said error so, we need to use if statement\n",
    "    rate = item.find(\"em\", attrs={\"class\":\"rating\"})\n",
    "    if rate:\n",
    "        rate = rate.get_text()\n",
    "    else:\n",
    "        print(\"no rate\")\n",
    "        continue\n",
    "    rate_cnt = item.find(\"span\", attrs={\"class\":\"rating-total-count\"})\n",
    "    if rate_cnt:\n",
    "        rate_cnt = rate_cnt.get_text()\n",
    "        rate_cnt = rate_cnt[1:-1]\n",
    "    else:\n",
    "        print(\"no rate count\")\n",
    "        continue\n",
    "    #only rate > 4.5, rate_cnt > 100\n",
    "    if float(rate) >= 4.5 and int(rate_cnt) >= 10:\n",
    "        print(name,price,rate,rate_cnt)\n",
    "        continue\n",
    "\n"
   ]
  },
  {
   "cell_type": "markdown",
   "metadata": {},
   "source": [
    "If we want to print only with rate and rate_cnt,</br> \n",
    "remove 'print(\"no rate\")' and 'print(\"no rate count\")'"
   ]
  },
  {
   "cell_type": "code",
   "execution_count": 76,
   "metadata": {
    "tags": []
   },
   "outputs": [
    {
     "output_type": "stream",
     "name": "stdout",
     "text": "<span class=\"badge badge-delivery\">무료배송</span>\nNone\nNone\nNone\nNone\nNone\nNone\n<span class=\"badge badge-delivery\">무료배송</span>\nNone\nNone\nNone\nNone\n<span class=\"badge badge-delivery\">무료배송</span>\nNone\nNone\nNone\nNone\nNone\nNone\nNone\nNone\nNone\nNone\nNone\n<span class=\"badge badge-delivery\">무료배송</span>\nNone\nNone\nNone\nNone\n<span class=\"badge badge-delivery\">무료배송</span>\n<span class=\"badge badge-delivery\">무료배송</span>\nNone\nNone\nNone\nNone\nNone\n"
    }
   ],
   "source": [
    "#free delievery\n",
    "for item in items:\n",
    "    free_delievery = item.find(\"span\", attrs={\"class\":\"badge-delivery\"})\n",
    "    print(free_delievery)"
   ]
  },
  {
   "cell_type": "markdown",
   "metadata": {},
   "source": [
    "# multiple pages info extract"
   ]
  },
  {
   "cell_type": "code",
   "execution_count": 29,
   "metadata": {
    "tags": []
   },
   "outputs": [
    {
     "output_type": "stream",
     "name": "stdout",
     "text": "page:  1\nproduct: HP 노트북 15s-fq1076TU (코어 i3-1005G1 39.6cm WIN10 Home), 포함, SSD 256GB, 4GB\nprice: 812,080\nrate: 4.5, 11\nlink: https://www.coupang.com/vp/products/1443340826?itemId=2487822881&vendorItemId=70470588112\n--------------------------------------------------\npage:  2\nproduct: HP 15s-fq1075TU 다운로드 쿠폰할인 한컴오피스증정 전용키스킨증정 Nvme256GB 인텔10세대 i3 윈도우10프로 탑재, 8GB, Nvme SSD 256GB, 포함\nprice: 639,000\nrate: 4.5, 28\nlink: https://www.coupang.com/vp/products/1653857715?itemId=2817715375&vendorItemId=70422283482\n--------------------------------------------------\nproduct: HP 14s-dk0015AX 최종혜택가 63만원대 4GB 무상 업그레이드 한컴오피스 증정 전용키스킨 윈도우10프로 탑재, 8GB, 256GB NVMe M.2 SSD, 포함\nprice: 639,000\nrate: 5.0, 31\nlink: https://www.coupang.com/vp/products/1837194071?itemId=3123745451&vendorItemId=70135965700\n--------------------------------------------------\npage:  3\npage:  4\npage:  5\n"
    }
   ],
   "source": [
    "#   free delievery only\n",
    "#   rate > 4.3\n",
    "#   rate count > 10\n",
    "import requests\n",
    "from bs4 import BeautifulSoup\n",
    "import re\n",
    "headers = {\"User-Agent\":\"Mozilla/5.0 (Macintosh; Intel Mac OS X 10_15_5) AppleWebKit/537.36 (KHTML, like Gecko) Chrome/84.0.4147.125 Safari/537.36\"}\n",
    "for i in range(1,6): #page from 1 to 5\n",
    "    print(\"page: \", i)\n",
    "    url = \"https://www.coupang.com/np/search?q=%EB%85%B8%ED%8A%B8%EB%B6%81&channel=user&component=&eventCategory=SRP&trcid=&traid=&sorter=scoreDesc&minPrice=&maxPrice=&priceRange=&filterType=&listSize=36&filter=&isPriceRange=false&brand=&offerCondition=&rating=0&page={}&rocketAll=false&searchIndexingToken=1=4&backgroundColor=\".format(i) \n",
    "    res = requests.get(url, headers= headers)\n",
    "    res.raise_for_status()\n",
    "    soup = BeautifulSoup(res.text,'lxml')\n",
    "    items = soup.find_all(\"li\",attrs={\"class\":re.compile(\"^search-product\")})\n",
    "    for item in items:\n",
    "        name = item.find(\"div\", attrs={\"class\":\"name\"}).get_text()\n",
    "        price = item.find(\"strong\", attrs={\"class\":\"price-value\"}).get_text()\n",
    "        rate = item.find(\"em\", attrs={\"class\":\"rating\"})\n",
    "        if rate:\n",
    "            rate = rate.get_text()\n",
    "        else:\n",
    "            continue\n",
    "        rate_cnt = item.find(\"span\", attrs={\"class\":\"rating-total-count\"})\n",
    "        if rate_cnt:\n",
    "            rate_cnt = rate_cnt.get_text()[1:-1]\n",
    "        else:\n",
    "            continue\n",
    "        free_delievery = item.find(\"span\", attrs={\"class\":\"badge-delivery\"})\n",
    "        link = item.find(\"a\", attrs={\"class\":\"search-product-link\"})[\"href\"]\n",
    "        if float(rate) >= 4.3 and int(rate_cnt) >= 10 and free_delievery:\n",
    "            print(f\"product: {name}\")\n",
    "            print(f\"price: {price}\")\n",
    "            print(f\"rate: {rate}, {rate_cnt}\")\n",
    "            print(\"link: {}\".format(\"https://www.coupang.com\" + link))\n",
    "            print(\"-\"*50)\n",
    "            continue"
   ]
  },
  {
   "cell_type": "markdown",
   "metadata": {},
   "source": [
    "# image extraction"
   ]
  },
  {
   "cell_type": "code",
   "execution_count": 30,
   "metadata": {
    "tags": []
   },
   "outputs": [
    {
     "output_type": "stream",
     "name": "stdout",
     "text": "https://search1.kakaocdn.net/thumb/R232x328.q85/?fname=http%3A%2F%2Ft1.daumcdn.net%2Fmovie%2F097f7decd11d4a0ae39cb48eade62af63e43724d\nhttps://search1.kakaocdn.net/thumb/R232x328.q85/?fname=http%3A%2F%2Ft1.daumcdn.net%2Fmovie%2F77746e188b1ca46a1de84b09bf78e67c5c22ce64\nhttps://search1.kakaocdn.net/thumb/R232x328.q85/?fname=https%3A%2F%2Ft1.daumcdn.net%2Fmovie%2F38259ef0ed3416ddcc98cd0c30b6f1ad5e5f5f1d\nhttps://search1.kakaocdn.net/thumb/R232x328.q85/?fname=http%3A%2F%2Ft1.daumcdn.net%2Fmovie%2Fc68515cc88d0227584f67deaa3d0046204ae998b\nhttps://search1.kakaocdn.net/thumb/R232x328.q85/?fname=http%3A%2F%2Ft1.daumcdn.net%2Fmovie%2Fc98cf3e74671b88df0f2b31b516c0aaea2e1a816\nhttps://search1.kakaocdn.net/thumb/R232x328.q85/?fname=http%3A%2F%2Ft1.daumcdn.net%2Fmovie%2Fff9d430c0d2df2a1c659ccba8b621ad2251f6f02\nhttps://search1.kakaocdn.net/thumb/R232x328.q85/?fname=http%3A%2F%2Ft1.daumcdn.net%2Fmovie%2Fe78737f6be1573f673b561f3fc0b32a8cffce820\nhttps://search1.kakaocdn.net/thumb/R232x328.q85/?fname=http%3A%2F%2Ft1.daumcdn.net%2Fmovie%2Fdd84b905224c91225aa2a15203aba3a354197c1d\nhttps://search1.kakaocdn.net/thumb/R232x328.q85/?fname=http%3A%2F%2Ft1.daumcdn.net%2Fmovie%2F4e00e81f2b6f4d2eb65b3387240cc3c01547608409838\nhttps://search1.kakaocdn.net/thumb/R232x328.q85/?fname=http%3A%2F%2Ft1.daumcdn.net%2Fmovie%2F5574fb2c20c844629aa9ad1d6043ee851555464908641\n"
    }
   ],
   "source": [
    "# movie poster \n",
    "# best 2 movies of the year\n",
    "# year from 2015 to 2019\n",
    "# save file in jpg\n",
    "# we cannot save image right away, get into other link to save pic\n",
    "import requests\n",
    "from bs4 import BeautifulSoup\n",
    "import re\n",
    "headers = {\"User-Agent\":\"Mozilla/5.0 (Macintosh; Intel Mac OS X 10_15_5) AppleWebKit/537.36 (KHTML, like Gecko) Chrome/84.0.4147.125 Safari/537.36\"}\n",
    "\n",
    "for year in range(2015,2020):\n",
    "    url = \"https://search.daum.net/search?w=tot&q={}%EB%85%84%EC%98%81%ED%99%94%EC%88%9C%EC%9C%84&DA=MOR&rtmaxcoll=MOR\".format(year)\n",
    "    res = requests.get(url, headers= headers)\n",
    "    res.raise_for_status()\n",
    "    soup = BeautifulSoup(res.text,'lxml')\n",
    "    images = soup.find_all(\"img\",attrs={\"class\":\"thumb_img\"})\n",
    "    for index, image in enumerate(images):\n",
    "        image_url = image[\"src\"]\n",
    "        if index >1:\n",
    "            break\n",
    "        if image_url.startswith(\"//\"):\n",
    "            image_url = \"https:\"+ image_url  \n",
    "        print(image_url)\n",
    "        image_res = requests.get(image_url)\n",
    "        image_res.raise_for_status()\n",
    "        with open(\"movies{}_{}.jpg\".format(year,index+1),\"wb\") as f:\n",
    "            f.write(image_res.content)\n"
   ]
  },
  {
   "cell_type": "markdown",
   "metadata": {},
   "source": []
  },
  {
   "cell_type": "markdown",
   "metadata": {},
   "source": [
    "# Naver - stock"
   ]
  },
  {
   "cell_type": "code",
   "execution_count": 73,
   "metadata": {
    "tags": []
   },
   "outputs": [],
   "source": [
    "import csv\n",
    "import requests\n",
    "from bs4 import BeautifulSoup\n",
    "\n",
    "url = \"https://finance.naver.com/sise/sise_market_sum.nhn?&page=\"\n",
    "\n",
    "filename = \"naverstock.csv\"\n",
    "csvfile  = open(filename, \"w\", encoding=\"utf-8-sig\",newline='') #change encoding for korean\n",
    "writer = csv.writer(csvfile)\n",
    "header = \"N\t종목명\t현재가\t전일비\t등락률\t액면가\t시가총액\t상장주식수\t외국인비율\t거래량\tPER\tROE\t토론실\".split(\"\\t\")\n",
    "writer.writerow(header)\n",
    "\n",
    "for i in range(1,3):\n",
    "    res = requests.get(url + str(i))\n",
    "    res.raise_for_status()\n",
    "    soup = BeautifulSoup(res.text, \"lxml\")\n",
    "    rows = soup.find(\"table\", attrs={\"class\":\"type_2\"}).find(\"tbody\").find_all(\"tr\")\n",
    "    for row in rows:\n",
    "        columns = row.find_all(\"td\")\n",
    "        if len(columns) <=1:\n",
    "            continue\n",
    "        data = [column.get_text().strip() for column in columns]\n",
    "        writer.writerow(data)"
   ]
  },
  {
   "cell_type": "code",
   "execution_count": null,
   "metadata": {},
   "outputs": [],
   "source": []
  }
 ]
}