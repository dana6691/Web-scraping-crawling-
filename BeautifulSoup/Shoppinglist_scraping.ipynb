{
 "metadata": {
  "language_info": {
   "codemirror_mode": {
    "name": "ipython",
    "version": 3
   },
   "file_extension": ".py",
   "mimetype": "text/x-python",
   "name": "python",
   "nbconvert_exporter": "python",
   "pygments_lexer": "ipython3",
   "version": "3.8.5-final"
  },
  "orig_nbformat": 2,
  "kernelspec": {
   "name": "python_defaultSpec_1599168463378",
   "display_name": "Python 3.8.5 64-bit"
  }
 },
 "nbformat": 4,
 "nbformat_minor": 2,
 "cells": [
  {
   "cell_type": "markdown",
   "metadata": {},
   "source": [
    "# Ebay - laptop \n",
    "- print only name"
   ]
  },
  {
   "cell_type": "code",
   "execution_count": 2,
   "metadata": {
    "tags": []
   },
   "outputs": [
    {
     "output_type": "stream",
     "name": "stdout",
     "text": "DELL LAPTOP LATiTUDE WINDOWS 10 CORE 2 DUO 4GB RAM WIN DVD WIFI PC HD COMPUTER\nDELL LATiTUDE LAPTOP WINDOWS 10 INTEL CORE 2 DUO DVD WiFi NOTEBOOK HD COMPUTER\nHP LAPTOP WINDOWS 10 PC CORE i5 2.4GHz 4GB RAM WiFi DVDRW NOTEBOOK 250GB HD WIN\nHP LAPTOP NOTEBOOK PC WINDOWS 10 WIN INTEL CORE 2 DUO 4GB 14.1\" HD DVD COMPUTER\nCHUWI HeroBook Pro 14.1 in Laptop Windows 10 Intel Dual Core 8+256G Notebook PC\nNew ASUS Ultra-Thin 11.6 Laptop Intel DualCore CPU 64GB SSD Win10 1 Year Office\nNew ListingHP 250 G5 Business Laptop 15.6 4GB Ram 500GB Windows 10 Pro Brand New Sealed!\nHP Chromebook 14 inch Students Laptop Computer WiFi SSD HDMI Chrome OS\nNew ListingDell Latitude E5440, i5-4300U 1.90 GHz, 8GB, 256GB SSD &  Windows 10 Pro\nIBM LAPTOP LENOVO WINDOWS 10 WIN INTEL COMPUTER WIRELESS WIFI DVD NOTEBOOK PC\nSamsung XE303C12-A01US Exynos 5 Dual-Core 1.7GHz 2GB 16GB Chromebook with Webcam\nSamsung Chromebook XE303C12 11.6in 16GB, Samsung Exynos 5 Dual-Core\nNew ListingHP ProBook 6470B 14in HD Notebook High Business Laptop i53210M 8GB RAM 128GB SSD\nOB HP 15-F247NR 15.6\" Laptop AMD E2-3800 1.3GHz 4GB Ram 500GB HD Windows 8.1\nDell Latitude Laptop HD LED Intel Core 2 Duo 4GB RAM DVD-RW WiFi Windows 10\nHP LAPTOP ELITEBOOK INTEL i5 16GB 1TB 512GB SSD HD DVD WINDOWS 10 WiFi NOTEBOOK\nHP LAPTOP COMPUTER PROBOOK WINDOWS 10 WIN 14\" 2.1GHz 4GB 320GB NOTEBOOK PC WiFi\nNEW HP 14\" Chromebook Laptop - AMD A4-9120, 32GB SSD, 4GB DDR4, Google Chrome OS\nNew ListingDell Latitude 3330  i3-3217U @1.8GHz 320GB HDD 4GB RAM (Lot of 2, Bad Batteries)\nMicrosoft Surface Pro 7 12.3 Intel Core i5 8GB RAM 128GB SSD Platinum Bundle\nLenovo ThinkPad Chromebook 11e 11.6\" N2930 1.83GHz 4GB RAM 16GB SSD Chrome OS\nNEW HP 15.6\" HD Intel 10th Gen i3-1005G1 3.4GHz 256GB SSD 8GB RAM Win 10 Laptop\nLenovo Laptop Yoga Quad Core CPU Touchscreen Windows 10 Webcam 4GB 128GB SSD\nDell Latitude Business Gaming Laptop HD Intel Core i5 3.20GHz 16GB RAM 2TB SSD\nLenovo ThinkPad E450 (Intel Core i5 5th Gen., 4GB RAM, No HDD) w/ AC Adapter\nBRAND NEW HP Stream 14\" HD Intel N4000 4GB RAM 64GB 14-cb172wm BT Win 10 PINK\nNEW HP 15.6\" TOUCHSCREEN LAPTOP INTEL DUAL CORE 10TH GEN I3 3.4GHZ 8GB 256GB SSD\nAcer Chromebook C720-2844 11.6\" 2955u 1.4GHz 4GB RAM 16GB SSD Chrome OS\nToshiba CB30 Chromebook 2 B3122 13.3\" N2840 2.16GHz 2GB RAM 16GB SSD Chrome OS\nNew ListingDell Latitude E7480 i5 6300U, 8GB RAM, 256 SSD, Win 10 Pro Warr: Exp 2-21\nHP 14-dk1025wm 14\" HD Ryzen 3 3250U 2.6GHz AMD Radeon Graphics 4GB RAM 1TB SSD\nHP 14-dk0022wm Notebook 14\" HD Ryzen 3 3200U 2.6GHz 4GB RAM 128GB SSD Win 10\nIBM LENOVO LAPTOP THINKPAD 15.4\" WINDOWS 10 CORE 2 DUO CDRW DVD WiFi NOTEBOOK HD\nBack to School Laptop Dell Latitude i5 8GB RAM 128GB SSD Webcam WiFi Windows 10\nMicrosoft Surface Go 2 10.5 Intel Core m3 8GB RAM 128GB SSD Platinum Bundle\nNew ListingLenovo ThinkPad t440s I5 4th 4GB 250GB SSD Windows 10 Pro\n2020 Acer Aspire 5 15.6\" FHD Laptop Ryzen 3(>i3-7100U)to 3.5GHz,16GB RAM&1TB SSD\nASUS - ROG Strix G15 15.6\" Gaming Laptop - Intel Core i7 - 8GB Memory - NVIDI...\nFast HP Core i3 Laptop Computer Windows 10 14\" HD Probook PC 4GB 250GB Wifi Cam\nLenovo Laptop ThinkPad X1 Carbon Core i5 3rd Gen 4GB 128GB SSD Windows 10 Pro PC\nLenovo ThinkPad T490, 14.0\" FHD IPS  250 nits, i5-8265U,   UHD Graphics, 8GB\nLenovo Legion Y540 15.6 Laptop 144Hz i7-9750H 16GB RAM 256GB SSD GTX 1660Ti 6GB\nNew ListingHP ZBook 15u G3 Workstation 15.6\" FHD Touchscreen Laptop Intel i7 6500U 512GB\nLENOVO LAPTOP 14 inch INTEL CORE i5 2.5GHz SSD 4GB RAM HD WEBCAM WINDOWS 10 WiFi\n2020 HP 14\" Laptop AMD Athlon 3050U(>i5-7200U) to 3.2GHz, upto 16GB RAM &1TB SSD\nDell Latitude Gaming Laptop 🎮 HD LED Intel Core i5 16GB RAM 256GB SSD HDMI\n2020 Newest HP Laptop AMD Dual Core CPU 8GB RAM Windows 10 Free 2-3 Day Shipping\nDell Latitude 3189 2-in-1 Touchscreen Convertible Laptop Windows 10 Pro\nNew ListingDell G7 7588 15.6'' (256 GB, Intel Core i7 8th Gen., 4.1 GHz, 8 GB) Notebook/La…\nHP 15 250, Intel Core i3, 8GB RAM, 500GB Disk, 15\" HD,  Windows 10, Open-box\nHP 15-EC0013DX 15.6\" Gaming Laptop AMD Ryzen 5 3550H 8GB DDR4-2400 RAM 256GB SSD\nNew ListingHP Pavilion 15z-CW000 Touch-Screen Laptop PC 15.6\" Ryzen 3 Quad 8GB 1TB Silver\nHP 10th Gen. Intel Core i7-1065 3.90GHz 24GB Memory 256GB SSD Drive 15.6\" Laptop\nLenovo - IdeaPad 3 17\" Laptop - AMD Ryzen 7 3700U - 12GB Memory - 1TB HDD + 1...\nDELL LATITUDE LAPTOP COMPUTER CORE DUO 2 GB WiFi DVD Windows 10 NOTEBOOK PC HD\nHP Gaming Laptop AMD A10 8GB RAM 256GB SSD Radeon R6 Graphics Windows 10 Webcam\nAcer - Nitro 5 15.6\" Gaming Laptop - AMD Ryzen 5 - 8GB Memory - NVIDIA GeForc...\nNew ListingLot Of 6 Dell Notebook 2100\nDell Inspiron 11 3000 2-in-1 Touchscreen Laptop (A9-9420e 4GB 64GB) Grey\nDELL LATITUDE E Series Win Pro10 CORE2 DUO 4GB RAM 320 GB HD DVD-RW WIFI Charger\nDELL LAPTOP LATITUDE CORE i5 16GB 512GB SSD HD HDMI WINDOWS 10 WiFi NOTEBOOK PC\nDELL LAPTOP NOTEBOOK CORE 4GB-8GB 250GB-1TB HD SSD 15.6\" DVD WINDOWS 10 WiFi PC\nHP LAPTOP ELITEBOOK 8470p INTEL i5 4GB-16GB 250GB-1TB HD SSD DVD WINDOWS 10 WiFi\n"
    }
   ],
   "source": [
    "#list of notebook\n",
    "import requests\n",
    "from bs4 import BeautifulSoup\n",
    "url = \"https://www.ebay.com/sch/i.html?_from=R40&_nkw=notebook&_sacat=0&_pgn=1\"\n",
    "res = requests.get(url)\n",
    "res.raise_for_status()\n",
    "soup = BeautifulSoup(res.text,'lxml')\n",
    "laptops = soup.find_all(\"h3\",attrs={\"class\":\"s-item__title\"})\n",
    "for laptop in laptops:\n",
    "    print(laptop.get_text())"
   ]
  },
  {
   "cell_type": "markdown",
   "metadata": {},
   "source": [
    "# Coupang - laptop \n",
    "print the projects which average review rate > 4.5 and have more than 10 reviews.</br>\n",
    "re library was usede because each product has the different class names.\n",
    "- title\n",
    "- price\n",
    "- review rate\n",
    "- number of reviews"
   ]
  },
  {
   "cell_type": "code",
   "execution_count": 1,
   "metadata": {
    "tags": []
   },
   "outputs": [
    {
     "output_type": "stream",
     "name": "stdout",
     "text": "LG전자 울트라 PC 노트북 15UD480-GX3DK (i3-8130U 39.6cm), SSD 128GB, 4GB, Free DOS 598,000 4.5 70\nHP 노트북 15s-fq1075TU (i3-1005G1 39.6cm WIN미포함 UHD Graphics), 미포함, NVMe 256GB, 4GB 489,000 4.5 35\n삼성전자 Flash 노트북 NT530XBB-K24WS 화이트 (펜티엄 실버 N5000 33.7cm), SSD 128GB, 4GB, WIN10 Home 664,690 4.5 22\nLG전자 울트라PC 노트북 15UD50N-GX50K 화이트 (i5-10210U 39.6cm) + 노트북 가방 + 키스킨 + 액정보호필름 + 마우스패드 + HDMI + 무선마우스, NVMe 256GB, 8GB, Free DOS 844,800 4.5 23\nLG전자 울트라 PC 노트북 15U70N-GR56K 다크실버 (i5-10210U 39.6cm), NVMe 256GB, 8GB, WIN10 Home 1,011,700 5.0 18\n삼성전자 노트북7 NT750XBV-A39A 플래티넘 티탄 (i3-8145U 39.6cm), NVMe 256GB, 8GB, Linux 899,000 4.5 61\n삼성전자 슬림 삼성노트북 i5 CPU 8G SSD256G 13인치 WIN10, 8GB, i5-4세대 256GB, 포함 529,000 4.5 32\n삼성전자 갤럭시북 이온 NT950XCJ-K78A (i7-10510U 39.6cm), 포함, NVMe 256GB + NVMe 256GB, 16GB 1,899,000 5.0 55\n삼성전자 노트북7 NT750XBV-A39A 플래티넘 티탄 (i3-8145U 39.6cm), NVMe 256GB, 8GB, WIN10 Home 1,078,000 4.5 61\nno rate\nHP 노트북 14s-dq1091TU (i3-1005G1 35.6cm WIN미포함), 미포함, SSD 256GB, 4GB 454,950 4.5 15\nLG전자 2020 그램15 노트북 15Z995-VR50K (i5-10210U 39.6cm), NVMe 256GB, 8GB, WIN10 Home 1,462,910 5.0 157\n에이수스 TUF 게이밍 노트북 FA506IH-BQ024 (R5-4600H 39.6cm RAM 8G SSD 512G WIN미포함 GTX1650), 미포함, NVMe 512GB, 8GB 849,000 4.5 22\nLG전자 2020년 그램17 노트북 17ZD90N-VX5BK (i5-1035G7 43.1cm), NVMe 256GB, 8GB, Free DOS 1,493,700 4.5 36\nLG전자 2020 그램15 노트북 15ZD995-VX50K (i5-10210U 39.6cm), NVMe 256GB, 8GB, Free DOS 1,275,300 5.0 54\nLG전자 울트라 PC 노트북 15U590-KA70K (i7-8565U 39.6cm MX 150), SSD 256GB, 8GB, WIN10 Home 1,155,400 5.0 15\nLG전자 2019 그램15 노트북 15ZD990-LX10K (팬티엄 5405U 39.6cm), SSD 128GB, 4GB, Free DOS 863,000 5.0 10\nHP 노트북 15s-fq1076TU (코어 i3-1005G1 39.6cm WIN10 Home), 포함, SSD 256GB, 4GB 582,900 4.5 11\n에이서 아스파이어5 블랙 N19C3 (피카소 R5-3500U 39.6cm IPS FHD AMD 라데온 Vega8 백라이트 키보드 WIN미포함), 미포함, SSD 128GB, 8GB 529,000 4.5 17\n삼성전자 갤럭시북 이온 노트북 NT930XCR-A38A 아우라 실버 (i3-10110U 33.7cm), NVMe 256GB, 8GB, WIN10 Home 1,308,530 4.5 40\nLG전자 2020 그램17 노트북 17ZD90N-VX7BK (i7-1065G7 43.1cm), NVMe 256GB, 8GB, Free DOS 1,607,400 5.0 52\nHP ENVY X360 컨버터블 노트북 13-ar0152AU (라이젠5 3500U 33.7cm WIN10 Home 라데온 Vega8) + USB C TO MULTI 커넥터 + 스타일 액티브 펜, 포함, SSD 256GB, 8GB 999,000 4.5 30\nLG전자 2020 그램 2in1 노트북 14TD90N-VX50K (i5-10210U 35.5cm), NVMe 256GB, 8GB, Free DOS 1,367,100 4.5 36\n"
    }
   ],
   "source": [
    "import requests\n",
    "from bs4 import BeautifulSoup\n",
    "import re\n",
    "#second page url\n",
    "url = \"https://www.coupang.com/np/search?q=%EB%85%B8%ED%8A%B8%EB%B6%81&channel=user&component=&eventCategory=SRP&trcid=&traid=&sorter=scoreDesc&minPrice=&maxPrice=&priceRange=&filterType=&listSize=36&filter=&isPriceRange=false&brand=&offerCondition=&rating=0&page=2&rocketAll=false&searchIndexingToken=1=4&backgroundColor=\" \n",
    "headers = {\"User-Agent\":\"Mozilla/5.0 (Macintosh; Intel Mac OS X 10_15_5) AppleWebKit/537.36 (KHTML, like Gecko) Chrome/84.0.4147.125 Safari/537.36\"}\n",
    "res = requests.get(url, headers= headers)\n",
    "res.raise_for_status()\n",
    "soup = BeautifulSoup(res.text,'lxml')\n",
    "\n",
    "#items are not having same class name;all includes search-product\n",
    "items = soup.find_all(\"li\",attrs={\"class\":re.compile(\"^search-product\")})\n",
    "for item in items:\n",
    "    ######ad product remove\n",
    "    #ad_badge = item.find(\"span\", attrs={\"class\":\"ad-badge-text\"}})\n",
    "    #if ad_badge:\n",
    "    #    print(\"ad product removed\")\n",
    "    #    continue    free_delievery = item.find(\"span\", attrs={\"class\":\"badge-delivery \"})\n",
    "    name = item.find(\"div\", attrs={\"class\":\"name\"}).get_text()\n",
    "    price = item.find(\"strong\", attrs={\"class\":\"price-value\"}).get_text()\n",
    "    #if there's missing data, it said error so, we need to use if statement\n",
    "    rate = item.find(\"em\", attrs={\"class\":\"rating\"})\n",
    "    if rate:\n",
    "        rate = rate.get_text()\n",
    "    else:\n",
    "        print(\"no rate\")\n",
    "        continue\n",
    "    rate_cnt = item.find(\"span\", attrs={\"class\":\"rating-total-count\"})\n",
    "    if rate_cnt:\n",
    "        rate_cnt = rate_cnt.get_text()\n",
    "        rate_cnt = rate_cnt[1:-1]\n",
    "    else:\n",
    "        print(\"no rate count\")\n",
    "        continue\n",
    "    #only rate > 4.5, rate_cnt > 10\n",
    "    if float(rate) >= 4.5 and int(rate_cnt) >= 10:\n",
    "        print(name,price,rate,rate_cnt)\n",
    "        continue"
   ]
  },
  {
   "cell_type": "code",
   "execution_count": 3,
   "metadata": {
    "tags": []
   },
   "outputs": [
    {
     "output_type": "stream",
     "name": "stdout",
     "text": "None\nNone\nNone\nNone\nNone\nNone\nNone\nNone\nNone\n<span class=\"badge badge-delivery\">무료배송</span>\nNone\n<span class=\"badge badge-delivery\">무료배송</span>\nNone\nNone\n<span class=\"badge badge-delivery\">무료배송</span>\nNone\nNone\nNone\nNone\nNone\nNone\nNone\nNone\nNone\nNone\nNone\nNone\nNone\nNone\nNone\nNone\nNone\nNone\nNone\nNone\nNone\n"
    }
   ],
   "source": [
    "#free delievery products\n",
    "for item in items:\n",
    "    free_delievery = item.find(\"span\", attrs={\"class\":\"badge-delivery\"})\n",
    "    print(free_delievery)"
   ]
  },
  {
   "cell_type": "markdown",
   "metadata": {},
   "source": [
    "Extract multiple pages data "
   ]
  },
  {
   "cell_type": "code",
   "execution_count": null,
   "metadata": {},
   "outputs": [],
   "source": [
    "#   free delievery only\n",
    "#   rate > 4.3\n",
    "#   rate count > 10\n",
    "import requests\n",
    "from bs4 import BeautifulSoup\n",
    "import re\n",
    "headers = {\"User-Agent\":\"Mozilla/5.0 (Macintosh; Intel Mac OS X 10_15_5) AppleWebKit/537.36 (KHTML, like Gecko) Chrome/84.0.4147.125 Safari/537.36\"}\n",
    "for i in range(1,6): #page from 1 to 5\n",
    "    print(\"page: \", i)\n",
    "    url = \"https://www.coupang.com/np/search?q=%EB%85%B8%ED%8A%B8%EB%B6%81&channel=user&component=&eventCategory=SRP&trcid=&traid=&sorter=scoreDesc&minPrice=&maxPrice=&priceRange=&filterType=&listSize=36&filter=&isPriceRange=false&brand=&offerCondition=&rating=0&page={}&rocketAll=false&searchIndexingToken=1=4&backgroundColor=\".format(i) \n",
    "    res = requests.get(url, headers= headers)\n",
    "    res.raise_for_status()\n",
    "    soup = BeautifulSoup(res.text,'lxml')\n",
    "    items = soup.find_all(\"li\",attrs={\"class\":re.compile(\"^search-product\")})\n",
    "    for item in items:\n",
    "        name = item.find(\"div\", attrs={\"class\":\"name\"}).get_text()\n",
    "        price = item.find(\"strong\", attrs={\"class\":\"price-value\"}).get_text()\n",
    "        rate = item.find(\"em\", attrs={\"class\":\"rating\"})\n",
    "        if rate:\n",
    "            rate = rate.get_text()\n",
    "        else:\n",
    "            continue\n",
    "        rate_cnt = item.find(\"span\", attrs={\"class\":\"rating-total-count\"})\n",
    "        if rate_cnt:\n",
    "            rate_cnt = rate_cnt.get_text()[1:-1]\n",
    "        else:\n",
    "            continue\n",
    "        free_delievery = item.find(\"span\", attrs={\"class\":\"badge-delivery\"})\n",
    "        link = item.find(\"a\", attrs={\"class\":\"search-product-link\"})[\"href\"]\n",
    "        if float(rate) >= 4.3 and int(rate_cnt) >= 10 and free_delievery:\n",
    "            print(f\"product: {name}\")\n",
    "            print(f\"price: {price}\")\n",
    "            print(f\"rate: {rate}, {rate_cnt}\")\n",
    "            print(\"link: {}\".format(\"https://www.coupang.com\" + link))\n",
    "            print(\"-\"*50)\n",
    "            continue"
   ]
  }
 ]
}