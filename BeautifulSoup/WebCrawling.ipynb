##################################################################
#web scrapting - extract only the necessary part
#HTML:frame
#CSS: decoration
#JS:  action
##################################################################
#HTML(Hyper Text Markup Language)
import requests
res = requests.get("http://naver.com")
print("response code:", res.status_code) #200 is normal
res.raise_for_status()
print("start web scraping")
print(len(res.text))

#save html file on txt
with open("google.html", "w", encoding="utf8") as f:
    f.write(res.text)
'''if res.status_code == request.codes.ok:
    print("it is normal")
else:
    print("there is a problem. [errorcode", res.statis_code,"]")'''

##################################################################
#web crawling
##################################################################