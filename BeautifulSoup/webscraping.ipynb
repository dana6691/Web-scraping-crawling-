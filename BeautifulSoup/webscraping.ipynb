{
 "metadata": {
  "language_info": {
   "codemirror_mode": {
    "name": "ipython",
    "version": 3
   },
   "file_extension": ".py",
   "mimetype": "text/x-python",
   "name": "python",
   "nbconvert_exporter": "python",
   "pygments_lexer": "ipython3",
   "version": "3.7.8-final"
  },
  "orig_nbformat": 2,
  "kernelspec": {
   "name": "python_defaultSpec_1598036705959",
   "display_name": "Python 3.7.8 64-bit"
  }
 },
 "nbformat": 4,
 "nbformat_minor": 2,
 "cells": [
  {
   "cell_type": "code",
   "execution_count": 9,
   "metadata": {
    "tags": []
   },
   "outputs": [
    {
     "output_type": "stream",
     "name": "stdout",
     "text": "response code: 200\nstart web scraping\n165296\n"
    }
   ],
   "source": [
    "# request the data through HTTP server\n",
    "# when we are requesting HTTP METHOD should be selected\n",
    "#1. GET: everyone can see, using url\n",
    "# ex) https://www.coupand.com/np/search?minPrice=1000&maxPrice=1000000&page=1\n",
    "# GET is after '?', all the parameters are seperated with '&'\n",
    "#2. POST: conceived under the body\n",
    "import requests\n",
    "res = requests.get(\"http://naver.com\")\n",
    "print(\"response code:\", res.status_code) #200 is normal\n",
    "\n",
    "res.raise_for_status()\n",
    "print(\"start web scraping\")\n",
    "print(len(res.text))"
   ]
  },
  {
   "cell_type": "code",
   "execution_count": 10,
   "metadata": {},
   "outputs": [],
   "source": [
    "#save html file in text\n",
    "with open(\"mygoogle.html\", \"w\", encoding=\"utf8\") as f:\n",
    "    f.write(res.text)"
   ]
  },
  {
   "cell_type": "code",
   "execution_count": 17,
   "metadata": {
    "tags": []
   },
   "outputs": [
    {
     "output_type": "stream",
     "name": "stdout",
     "text": "case\n"
    }
   ],
   "source": [
    "import re\n",
    "# Regular Expression Operations\n",
    "# . (ca.e): one letter > case, cafe, care\n",
    "# ^ (^de): start of the words > desk, destination\n",
    "# $ (se$): end of the words > case, base\n",
    "p = re.compile(\"ca.e\") \n",
    "m = p.match(\"case\")\n",
    "m1 = p.match(\"caffee\")\n",
    "print(m.group()) # if match, print the word\n",
    "#print(m1.group()) #if there's no match, error"
   ]
  },
  {
   "cell_type": "code",
   "execution_count": 27,
   "metadata": {
    "tags": []
   },
   "outputs": [],
   "source": [
    "def print_match(m):\n",
    "    if m:\n",
    "        print(\"m.group():\", m.group()) #return matched letters\n",
    "        print(\"m.string():\", m.string) #input letters\n",
    "        print(\"m.start():\", m.start()) #index of first matched letter\n",
    "        print(\"m.end():\", m.end()) #index of last matched letter\n",
    "        print(\"m.span():\", m.span(),\"\\n\") #index of first and last letters\n",
    "    else:\n",
    "        print(\"not matching\")"
   ]
  },
  {
   "cell_type": "code",
   "execution_count": 33,
   "metadata": {
    "tags": []
   },
   "outputs": [
    {
     "output_type": "stream",
     "name": "stdout",
     "text": "m.group(): care\nm.string(): careless\nm.start(): 0\nm.end(): 4\nm.span(): (0, 4) \n\nm.group(): care\nm.string(): good careless\nm.start(): 5\nm.end(): 9\nm.span(): (5, 9) \n\n['care', 'cafe']\n"
    }
   ],
   "source": [
    "\n",
    "#1.match\n",
    "#2.search\n",
    "#3.findall\n",
    "#match: (one)match from the beginning of the word\n",
    "m = p.match(\"careless\")\n",
    "print_match(m)\n",
    "\n",
    "#search: (one)any location, match \n",
    "m = p.search(\"good careless\")\n",
    "print_match(m)\n",
    "\n",
    "#findall: (find all)matched in list\n",
    "lst = p.findall(\"good care cafe\")\n",
    "print(lst)"
   ]
  },
  {
   "cell_type": "code",
   "execution_count": 36,
   "metadata": {},
   "outputs": [],
   "source": [
    "#User Agent: we can find it in website, whatismybroswer.com \n",
    "#in case homepage is blocked\n",
    "#Mozilla/5.0 (Macintosh; Intel Mac OS X 10_15_5) AppleWebKit/537.36 (KHTML, like Gecko) Chrome/84.0.4147.125 Safari/537.36\n",
    "import requests\n",
    "url = \"http://nadocoding.tistory.com\"\n",
    "headers = {\"User-Agent\":\"Mozilla/5.0 (Macintosh; Intel Mac OS X 10_15_5) AppleWebKit/537.36 (KHTML, like Gecko) Chrome/84.0.4147.125 Safari/537.36\"}\n",
    "res = requests.get(url, headers= headers)\n",
    "res.raise_for_status()\n",
    "with open(\"nadocoding.html\", \"w\", encoding=\"utf8\") as f:\n",
    "    f.write(res.text)"
   ]
  },
  {
   "cell_type": "code",
   "execution_count": null,
   "metadata": {},
   "outputs": [],
   "source": []
  }
 ]
}