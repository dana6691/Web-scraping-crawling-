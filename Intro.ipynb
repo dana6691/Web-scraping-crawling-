{
 "metadata": {
  "language_info": {
   "codemirror_mode": {
    "name": "ipython",
    "version": 3
   },
   "file_extension": ".py",
   "mimetype": "text/x-python",
   "name": "python",
   "nbconvert_exporter": "python",
   "pygments_lexer": "ipython3",
   "version": "3.7.8-final"
  },
  "orig_nbformat": 2,
  "kernelspec": {
   "name": "python_defaultSpec_1597935643538",
   "display_name": "Python 3.7.8 64-bit"
  }
 },
 "nbformat": 4,
 "nbformat_minor": 2,
 "cells": [
  {
   "cell_type": "code",
   "execution_count": 7,
   "metadata": {
    "tags": []
   },
   "outputs": [
    {
     "output_type": "stream",
     "name": "stdout",
     "text": "her name is chansey and she is my friend\nher name is Chancy and she is 11 year old\nher name is chansey and her dog name is charley\n"
    }
   ],
   "source": [
    "print(\"her name is %s and she is my friend\" %\"chansey\")\n",
    "print(\"her name is %s and she is %s year old\" % (\"Chancy\",11))\n",
    "print(\"her name is {} and her dog name is {}\".format(\"chansey\",\"charley\"))"
   ]
  },
  {
   "cell_type": "code",
   "execution_count": 10,
   "metadata": {
    "tags": []
   },
   "outputs": [
    {
     "output_type": "stream",
     "name": "stdout",
     "text": "date of meeting is 13. please come\n"
    }
   ],
   "source": [
    "from random import *\n",
    "date = randint(4,28)\n",
    "print(\"date of meeting is \" + str(date) + \". please come\")"
   ]
  },
  {
   "cell_type": "code",
   "execution_count": 14,
   "metadata": {
    "tags": []
   },
   "outputs": [
    {
     "output_type": "stream",
     "name": "stdout",
     "text": "this is my friend\nhello how are you?\n"
    }
   ],
   "source": [
    "# print multiple lines\n",
    "sentences = \"\"\" this is my friend\n",
    "hello how are you?\"\"\"\n",
    "print(sentences)"
   ]
  },
  {
   "cell_type": "code",
   "execution_count": 20,
   "metadata": {
    "tags": []
   },
   "outputs": [
    {
     "output_type": "stream",
     "name": "stdout",
     "text": "gender:  1\nyear:  99\ndateofbirth:  990112\nlast 7 digits:  1234567\nlast 7 digits:  1234567\n"
    }
   ],
   "source": [
    "# numeric function\n",
    "jami = \"990112-1234567\"\n",
    "print(\"gender: \", jami[7])\n",
    "print(\"year: \", jami[0:2])\n",
    "\n",
    "print(\"dateofbirth: \", jami[:6])\n",
    "print(\"last 7 digits: \", jami[7:])\n",
    "print(\"last 7 digits: \", jami[-7:]) #start from last 7th number to the end"
   ]
  },
  {
   "cell_type": "code",
   "execution_count": 2,
   "metadata": {
    "tags": []
   },
   "outputs": [
    {
     "output_type": "stream",
     "name": "stdout",
     "text": "python is amazing\nPYTHON IS AMAZING\nP\nTrue\nJava is Amazing\n"
    }
   ],
   "source": [
    "# string function\n",
    "python = \"Python is Amazing\"\n",
    "print(python.lower())\n",
    "print(python.upper())\n",
    "print(python[0]) #first letter\n",
    "print(python[0].isupper())\n",
    "print(python.replace(\"Python\",\"Java\"))"
   ]
  },
  {
   "cell_type": "code",
   "execution_count": 3,
   "metadata": {
    "tags": []
   },
   "outputs": [
    {
     "output_type": "stream",
     "name": "stdout",
     "text": "10\n15\n"
    }
   ],
   "source": [
    "index_A = python.index(\"A\") #space is also count\n",
    "print(index_A)\n",
    "index = python.index(\"n\", index_A)\n",
    "print(index)"
   ]
  },
  {
   "cell_type": "code",
   "execution_count": 22,
   "metadata": {
    "tags": []
   },
   "outputs": [
    {
     "output_type": "stream",
     "name": "stdout",
     "text": "--winnders reports--\ncoffee: 11\nchicken: 14\n--congratulation--\n"
    }
   ],
   "source": [
    "# random selection\n",
    "from random import *\n",
    "users = range(1, 21) #generate number 1 through 20\n",
    "users = list(users)\n",
    "winners = sample(users,2)\n",
    "print(\"--winnders reports--\")\n",
    "print(\"coffee: {}\".format(winners[0]))\n",
    "print(\"chicken: {}\".format(winners[1]))\n",
    "print(\"--congratulation--\")"
   ]
  },
  {
   "cell_type": "markdown",
   "metadata": {},
   "source": [
    "# if loop with input\n"
   ]
  },
  {
   "cell_type": "code",
   "execution_count": 23,
   "metadata": {
    "tags": []
   },
   "outputs": [
    {
     "output_type": "stream",
     "name": "stdout",
     "text": "bring sunglasses\n"
    }
   ],
   "source": [
    "# if loop + input(string)\n",
    "weather = input(\"how's the weather today?\")\n",
    "if weather == 'rainy':\n",
    "    print(\"bring umbrellas\")\n",
    "elif weather == 'sunny':\n",
    "    print(\"bring sunglasses\")\n",
    "elif weather == 'disaster':\n",
    "    print(\"don't go outside\")\n",
    "else: print(\"I don't know\")\n"
   ]
  },
  {
   "cell_type": "code",
   "execution_count": 24,
   "metadata": {
    "tags": []
   },
   "outputs": [
    {
     "output_type": "stream",
     "name": "stdout",
     "text": "too hot.\n"
    }
   ],
   "source": [
    "# if loop + input(integer)\n",
    "temp = int(input(\"how's the temperature?\"))\n",
    "if 30 <=temp:\n",
    "    print(\"too hot.\")\n",
    "elif 10 <= temp and temp < 30:\n",
    "    print(\"very nice\")\n",
    "elif 0<= temp and temp <10:\n",
    "    print(\"chilly\")\n",
    "else: print(\"very cold\")"
   ]
  },
  {
   "cell_type": "markdown",
   "metadata": {},
   "source": [
    "# for loop"
   ]
  },
  {
   "cell_type": "code",
   "execution_count": 47,
   "metadata": {
    "tags": []
   },
   "outputs": [
    {
     "output_type": "stream",
     "name": "stdout",
     "text": "waiting customer number: 1\nwaiting customer number: 2\njenny, coffee is ready here.\njim, coffee is ready here.\ncoala, coffee is ready here.\n[101, 102, 103, 104, 105]\n"
    }
   ],
   "source": [
    "for waiting_num in range(1,3):\n",
    "    print(\"waiting customer number: {}\".format(waiting_num))\n",
    "\n",
    "starbucks = [\"jenny\",\"jim\",\"coala\"]\n",
    "for customer in starbucks:\n",
    "    print(\"{0}, coffee is ready here.\".format(customer))\n",
    "\n",
    "student = [1,2,3,4,5]\n",
    "student = [i+100 for i in student]\n",
    "print(student)"
   ]
  },
  {
   "cell_type": "markdown",
   "metadata": {},
   "source": [
    "# while loop"
   ]
  },
  {
   "cell_type": "code",
   "execution_count": 35,
   "metadata": {
    "tags": []
   },
   "outputs": [
    {
     "output_type": "stream",
     "name": "stdout",
     "text": "Jenny, coffee is here. we have 5 times left.\nJenny, coffee is here. we have 4 times left.\nJenny, coffee is here. we have 3 times left.\nJenny, coffee is here. we have 2 times left.\nJenny, coffee is here. we have 1 times left.\ncoffee is dumped.\n"
    }
   ],
   "source": [
    "# we dump the coffee if customer doesn't show up after 5 times call \n",
    "customer = \"Jenny\"\n",
    "index = 5\n",
    "while index >= 1:\n",
    "    print(\"{}, coffee is here. we have {} times left.\".format(customer,index))\n",
    "    index -= 1\n",
    "    if index == 0:\n",
    "        print(\"coffee is dumped.\")"
   ]
  },
  {
   "cell_type": "code",
   "execution_count": 37,
   "metadata": {
    "tags": []
   },
   "outputs": [
    {
     "output_type": "stream",
     "name": "stdout",
     "text": "coffee is ready, tom\n"
    }
   ],
   "source": [
    "# tell coffee is ready until customer came\n",
    "customer = \"Tom\"\n",
    "person = \"unknown\"\n",
    "while customer != person:\n",
    "    print(\"coffee is ready, {}\".format(customer))\n",
    "    person = input(\"what is your name?\")\n"
   ]
  },
  {
   "cell_type": "markdown",
   "metadata": {},
   "source": [
    "# continue & break"
   ]
  },
  {
   "cell_type": "code",
   "execution_count": 45,
   "metadata": {
    "tags": []
   },
   "outputs": [
    {
     "output_type": "stream",
     "name": "stdout",
     "text": "1,read the book\n3,read the book\n4,read the book\n6,read the book\nToday's class is done. 7, follow me\n"
    }
   ],
   "source": [
    "absent = [2,5,8]\n",
    "no_book = [7]\n",
    "for student in range(1,11):\n",
    "    if student in absent:\n",
    "        continue\n",
    "    elif student in no_book:\n",
    "        print(\"Today's class is done. {}, follow me\".format(student))\n",
    "        break\n",
    "    print(\"{},read the book\".format(student))"
   ]
  },
  {
   "cell_type": "code",
   "execution_count": 81,
   "metadata": {
    "tags": []
   },
   "outputs": [
    {
     "output_type": "stream",
     "name": "stdout",
     "text": "[ ] 1 customers, (driving time: 39 minutes)\n[ ] 2 customers, (driving time: 17 minutes)\n[0] 3 customers, (driving time: 10 minutes)\n[ ] 4 customers, (driving time: 33 minutes)\n[0] 5 customers, (driving time: 9 minutes)\n[ ] 6 customers, (driving time: 26 minutes)\n[0] 7 customers, (driving time: 11 minutes)\n[ ] 8 customers, (driving time: 43 minutes)\n[0] 9 customers, (driving time: 6 minutes)\n[ ] 10 customers, (driving time: 50 minutes)\n[ ] 11 customers, (driving time: 32 minutes)\n[ ] 12 customers, (driving time: 23 minutes)\n[ ] 13 customers, (driving time: 48 minutes)\n[ ] 14 customers, (driving time: 32 minutes)\n[ ] 15 customers, (driving time: 24 minutes)\n[ ] 16 customers, (driving time: 28 minutes)\n[ ] 17 customers, (driving time: 41 minutes)\n[ ] 18 customers, (driving time: 23 minutes)\n[ ] 19 customers, (driving time: 50 minutes)\n[0] 20 customers, (driving time: 13 minutes)\n[ ] 21 customers, (driving time: 36 minutes)\n[ ] 22 customers, (driving time: 18 minutes)\n[ ] 23 customers, (driving time: 37 minutes)\n[ ] 24 customers, (driving time: 21 minutes)\n[ ] 25 customers, (driving time: 40 minutes)\n[ ] 26 customers, (driving time: 50 minutes)\n[ ] 27 customers, (driving time: 33 minutes)\n[ ] 28 customers, (driving time: 34 minutes)\n[ ] 29 customers, (driving time: 16 minutes)\n[ ] 30 customers, (driving time: 50 minutes)\n[ ] 31 customers, (driving time: 37 minutes)\n[ ] 32 customers, (driving time: 23 minutes)\n[0] 33 customers, (driving time: 5 minutes)\n[ ] 34 customers, (driving time: 38 minutes)\n[ ] 35 customers, (driving time: 41 minutes)\n[ ] 36 customers, (driving time: 46 minutes)\n[ ] 37 customers, (driving time: 35 minutes)\n[0] 38 customers, (driving time: 10 minutes)\n[ ] 39 customers, (driving time: 25 minutes)\n[ ] 40 customers, (driving time: 35 minutes)\n[ ] 41 customers, (driving time: 38 minutes)\n[ ] 42 customers, (driving time: 20 minutes)\n[ ] 43 customers, (driving time: 28 minutes)\n[0] 44 customers, (driving time: 12 minutes)\n[ ] 45 customers, (driving time: 31 minutes)\n[0] 46 customers, (driving time: 13 minutes)\n[ ] 47 customers, (driving time: 38 minutes)\n[ ] 48 customers, (driving time: 19 minutes)\n[ ] 49 customers, (driving time: 40 minutes)\n[ ] 50 customers, (driving time: 21 minutes)\ntotal customers: 9\n"
    }
   ],
   "source": [
    "# taxi driver\n",
    "    # 50 customers\n",
    "    # driving time 5 ~ 50 min\n",
    "    # ONly count customer driving time 5 < time < 15\n",
    "from random import *\n",
    "cnt = 0\n",
    "for i in range(50):\n",
    "    drive_hr = randrange(5,51)\n",
    "    if 5 <= drive_hr and drive_hr <= 15:\n",
    "        print(\"[0] {} customers, (driving time: {} minutes)\".format(i+1, drive_hr))\n",
    "        cnt +=1   \n",
    "    else:\n",
    "        print(\"[ ] {} customers, (driving time: {} minutes)\".format(i+1, drive_hr))\n",
    "print(\"total customers: {}\".format(cnt))\n",
    "\n"
   ]
  },
  {
   "cell_type": "markdown",
   "metadata": {},
   "source": [
    "# function\n"
   ]
  },
  {
   "cell_type": "code",
   "execution_count": 88,
   "metadata": {
    "tags": []
   },
   "outputs": [
    {
     "output_type": "stream",
     "name": "stdout",
     "text": "Withdrawl is successfuly operated. Your balance is 980\n"
    }
   ],
   "source": [
    "def withdraw(balance, money):\n",
    "    if balance >= money:\n",
    "        print(\"Withdrawl is successfuly operated. Your balance is {}\".format(balance - money))\n",
    "    else:\n",
    "        print(\"Not enough balance in the account. Your balance is {}\".format(balance))\n",
    "\n",
    "withdraw(1000,20)\n"
   ]
  },
  {
   "cell_type": "code",
   "execution_count": 93,
   "metadata": {
    "tags": []
   },
   "outputs": [
    {
     "output_type": "stream",
     "name": "stdout",
     "text": "name: daniya\t age: 23\t main_lan: eng\nname: jaesi\t age: 32\t main_lan: french\nname: daniya\t age: 12\t main_lan: korean\nname: toniy\t age: 12\t main_lan: korean\n"
    }
   ],
   "source": [
    "def profile(name, age, main_lan):\n",
    "    print(\"name: {}\\t age: {}\\t main_lan: {}\"\\\n",
    "        .format(name,age,main_lan))\n",
    "\n",
    "profile(\"daniya\",23,\"eng\")\n",
    "profile(\"jaesi\",32,\"french\")\n",
    "\n",
    "def profile(name, age=12, main_lan=\"korean\"):\n",
    "    print(\"name: {}\\t age: {}\\t main_lan: {}\"\\\n",
    "        .format(name,age,main_lan))\n",
    "profile(\"daniya\")\n",
    "profile(\"toniy\")"
   ]
  },
  {
   "cell_type": "code",
   "execution_count": 98,
   "metadata": {
    "tags": []
   },
   "outputs": [
    {
     "output_type": "stream",
     "name": "stdout",
     "text": "name: Jacy\t age: 20\t Python C# C++ R Java JavaScript \nname: Denny\t age: 25\t Kotlin Swift \n"
    }
   ],
   "source": [
    "# variadic function(argument)\n",
    "def profile(name,age, *language):\n",
    "    print(\"name: {}\\t age: {}\\t\".format(name,age), end= \" \")\n",
    "    for lang in language:\n",
    "        print(lang, end=\" \")\n",
    "    print()\n",
    "\n",
    "profile(\"Jacy\",20, \"Python\",\"C#\",\"C++\",\"R\",\"Java\",\"JavaScript\")\n",
    "profile(\"Denny\",25, \"Kotlin\",\"Swift\")"
   ]
  },
  {
   "cell_type": "code",
   "execution_count": 105,
   "metadata": {
    "tags": []
   },
   "outputs": [
    {
     "output_type": "stream",
     "name": "stdout",
     "text": "total gun: 10\nleft over: 18\nleftover gun: 10\ntotal gun: 10\nleft over: 8\nleftover gun: 8\n"
    }
   ],
   "source": [
    "# local variable, global variable\n",
    "gun = 10\n",
    "def checkpoint(soldiers): #soldiers check out guns\n",
    "    gun = 20\n",
    "    gun = gun - soldiers \n",
    "    print(\"left over: {}\".format(gun))\n",
    "\n",
    "print(\"total gun: {}\".format(gun))\n",
    "checkpoint(2)\n",
    "print(\"leftover gun: {}\".format(gun))\n",
    "\n",
    "\n",
    "\n",
    "def checkpoint(soldiers): #soldiers check out guns\n",
    "    global gun #use both inside and outside gun variable\n",
    "    gun = gun - soldiers \n",
    "    print(\"left over: {}\".format(gun))\n",
    "\n",
    "print(\"total gun: {}\".format(gun))\n",
    "checkpoint(2)\n",
    "print(\"leftover gun: {}\".format(gun))"
   ]
  },
  {
   "cell_type": "code",
   "execution_count": 116,
   "metadata": {
    "tags": []
   },
   "outputs": [
    {
     "output_type": "stream",
     "name": "stdout",
     "text": "Height of 175cm male's average weight is 67.38\n"
    }
   ],
   "source": [
    "#Quiz)average weight for women and men\n",
    "def std_weight(height,gender):\n",
    "    if gender == \"male\":\n",
    "        return height * height * 22\n",
    "    else:\n",
    "        return height * height * 21\n",
    "\n",
    "height = 175\n",
    "weight = round(std_weight(height, \"male\")/10000, 2)\n",
    "print(\"Height of {}cm male's average weight is {}\".format(height, weight))"
   ]
  },
  {
   "cell_type": "markdown",
   "metadata": {},
   "source": [
    "# Input/output"
   ]
  },
  {
   "cell_type": "code",
   "execution_count": 125,
   "metadata": {
    "tags": []
   },
   "outputs": [
    {
     "output_type": "stream",
     "name": "stdout",
     "text": "Python vs Java vs JavaScript\nPython,Java,JavaScript? which one will be better?\n"
    }
   ],
   "source": [
    "print(\"Python\",\"Java\",\"JavaScript\", sep = \" vs \")\n",
    "print(\"Python\",\"Java\",\"JavaScript\", sep = \",\", end=\"? \")\n",
    "print(\"which one will be better?\")\n",
    "print(\"Python\",\"Java\",\"JavaScript\",file=sys.stdout) #standard output\n",
    "print(\"Python\",\"Java\",\"JavaScript\",file=sys.stderr) #standard error\n"
   ]
  },
  {
   "cell_type": "code",
   "execution_count": 131,
   "metadata": {
    "tags": []
   },
   "outputs": [
    {
     "output_type": "stream",
     "name": "stdout",
     "text": "math    :   0\neng     :  50\ncomputer:  20\n"
    }
   ],
   "source": [
    "#test score\n",
    "scores = {\"math\":0, \"eng\":50, \"computer\":20}\n",
    "for subject, score in scores.items():\n",
    "    print(subject.ljust(8), str(score).rjust(4), sep=\":\") #make space on the left of 8 spaces\n"
   ]
  },
  {
   "cell_type": "code",
   "execution_count": 133,
   "metadata": {
    "tags": []
   },
   "outputs": [
    {
     "output_type": "stream",
     "name": "stdout",
     "text": "waiting list: 001\nwaiting list: 002\nwaiting list: 003\nwaiting list: 004\n"
    }
   ],
   "source": [
    "# waiting number\n",
    "# 001, 002, 003\n",
    "for num in range(1,5):\n",
    "    print(\"waiting list: \" + str(num).zfill(3))"
   ]
  },
  {
   "cell_type": "code",
   "execution_count": 135,
   "metadata": {
    "tags": []
   },
   "outputs": [
    {
     "output_type": "stream",
     "name": "stdout",
     "text": "entered value is : df\n"
    }
   ],
   "source": [
    "answer = input(\"Enter only string: \")\n",
    "print(\"entered value is : \" + str(answer))"
   ]
  },
  {
   "cell_type": "code",
   "execution_count": null,
   "metadata": {},
   "outputs": [],
   "source": []
  }
 ]
}