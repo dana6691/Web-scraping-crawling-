{
 "metadata": {
  "language_info": {
   "codemirror_mode": {
    "name": "ipython",
    "version": 3
   },
   "file_extension": ".py",
   "mimetype": "text/x-python",
   "name": "python",
   "nbconvert_exporter": "python",
   "pygments_lexer": "ipython3",
   "version": "3.8.5-final"
  },
  "orig_nbformat": 2,
  "kernelspec": {
   "name": "python_defaultSpec_1599170743775",
   "display_name": "Python 3.8.5 64-bit"
  }
 },
 "nbformat": 4,
 "nbformat_minor": 2,
 "cells": [
  {
   "cell_type": "markdown",
   "metadata": {},
   "source": [
    "# Today's Weather"
   ]
  },
  {
   "cell_type": "code",
   "execution_count": 1,
   "metadata": {},
   "outputs": [],
   "source": [
    "import re\n",
    "import requests\n",
    "from bs4 import BeautifulSoup\n",
    "\n",
    "def create_soup(url):\n",
    "    headers = {\"User-Agent\":\"Mozilla/5.0 (Macintosh; Intel Mac OS X 10_15_5) AppleWebKit/537.36 (KHTML, like Gecko) Chrome/84.0.4147.125 Safari/537.36\"}\n",
    "    res = requests.get(url, headers= headers)\n",
    "    res.raise_for_status()\n",
    "    soup = BeautifulSoup(res.text, \"lxml\")\n",
    "    return soup"
   ]
  },
  {
   "cell_type": "code",
   "execution_count": 2,
   "metadata": {
    "tags": []
   },
   "outputs": [],
   "source": [
    "import re\n",
    "import requests\n",
    "from bs4 import BeautifulSoup\n",
    "def scrape_weather():\n",
    "    print(\"[Today's Weather]\")\n",
    "    url = \"https://www.google.com/search?q=google+weather&oq=google+weather&aqs=chrome..69i57j0l7.2220j1j4&sourceid=chrome&ie=UTF-8\"\n",
    "    soup = create_soup(url)\n",
    "    #find(\"div\",attrs={\"class\":\"vk_c card-section\"}).\n",
    "    temp = [temp.get_text() for temp in soup.find(\"div\", attrs ={\"class\":\"wob_df wob_ds\"}).find_all(\"div\",attrs={\"class\":\"vk_gy\"})]\n",
    "    weather = soup.find(\"div\",attrs={\"id\":\"wob_dcp\"}).get_text()\n",
    "    other = [other.get_text() for other in soup.find(\"div\",attrs={\"class\":\"vk_gy vk_sh wob-dtl\"})]\n",
    "    print(\"Low/High: {}/{}\".format(temp[0][0:2],temp[0][2:5]))\n",
    "    print(\"Weather: \",weather)\n",
    "    print(other[0])\n",
    "    print(other[1])\n",
    "    print(other[2].split(\" mph\")[0]+\"mph\")"
   ]
  },
  {
   "cell_type": "code",
   "execution_count": 5,
   "metadata": {
    "tags": []
   },
   "outputs": [
    {
     "output_type": "stream",
     "name": "stdout",
     "text": "[Today's Weather]\nLow/High: 74/23°\nWeather:  Sunny\nPrecipitation: 0%\nHumidity: 33%\nWind: 17mph\n"
    }
   ],
   "source": [
    "scrape_weather()"
   ]
  },
  {
   "cell_type": "markdown",
   "metadata": {},
   "source": [
    "# News Headline"
   ]
  },
  {
   "cell_type": "code",
   "execution_count": 27,
   "metadata": {
    "tags": []
   },
   "outputs": [],
   "source": [
    "def scrape_headline_news():\n",
    "    print(\"[Today's Weather]\")\n",
    "    url = \"https://news.google.com/topstories?hl=en-US&gl=US&ceid=US:en\"\n",
    "    soup = create_soup(url)\n",
    "    news = soup.find(\"div\", attrs={\"class\":\"lBwEZb BL5WZb xP6mwf\"}).find_all(\"article\", attrs={\"class\":\"MQsxIb xTewfe R7GTQ keNKEd j7vNaf Cc0Z5d EjqUne\"})\n",
    "    index = 0\n",
    "    for new in news:\n",
    "        news2 = [news2.get_text() for news2 in new.find_all(\"a\", attrs={\"class\":\"DY5T1d\"})]\n",
    "        link_base = 'https://news.google.com'\n",
    "        link = [ link_base + news2['href'] for news2 in new.find_all(\"a\", attrs={\"class\":\"DY5T1d\"})]\n",
    "        index +=1\n",
    "        print(\"-\"*50,\"News_\" ,index, \"-\"*50)\n",
    "        print(news2)\n",
    "        print(link)\n"
   ]
  },
  {
   "cell_type": "code",
   "execution_count": 28,
   "metadata": {
    "tags": []
   },
   "outputs": [
    {
     "output_type": "stream",
     "name": "stdout",
     "text": "[Today's Weather]\n-------------------------------------------------- News_ 1 --------------------------------------------------\n['7 Rochester Police Officers Suspended in Death of Black Man Whom They Hooded']\n['https://news.google.com./articles/CAIiEHqNjdBRGiLBNRYvcxnhsh8qFwgEKg8IACoHCAowjuuKAzCWrzwwloIY?hl=en-US&gl=US&ceid=US%3Aen']\n-------------------------------------------------- News_ 2 --------------------------------------------------\n[\"Biden jokes that Kenosha audience would 'shoot me' if he didn't wrap up his remarks\"]\n['https://news.google.com./articles/CAIiEFpMSGaxXuxQbIft4peBB-QqGQgEKhAIACoHCAow4Zn5CjCu8uACMMvYnQY?hl=en-US&gl=US&ceid=US%3Aen']\n-------------------------------------------------- News_ 3 --------------------------------------------------\n[\"Facebook and Twitter labeled Trump's post about voting twice, but never said doing so was illegal\"]\n['https://news.google.com./articles/CAIiEAexgcdZVC9axWI3BkyUE4YqGQgEKhAIACoHCAowocv1CjCSptoCMPrTpgU?hl=en-US&gl=US&ceid=US%3Aen']\n-------------------------------------------------- News_ 4 --------------------------------------------------\n['Hair On Fire: White House Uses Pelosi Salon Scandal To Undercut Democrats']\n['https://news.google.com./articles/CBMicWh0dHBzOi8vd3d3Lm5wci5vcmcvMjAyMC8wOS8wMy85MDkyNDM5NzUvaGFpci1vbi1maXJlLXdoaXRlLWhvdXNlLXVzZXMtcGVsb3NpLXNhbG9uLXNjYW5kYWwtdG8tdW5kZXJjdXQtZGVtb2NyYXRz0gEA?hl=en-US&gl=US&ceid=US%3Aen']\n-------------------------------------------------- News_ 5 --------------------------------------------------\n[\"HHS Secretary Azar says Nov. 1 coronavirus vaccine deadline has 'nothing to do with elections'\"]\n['https://news.google.com./articles/CAIiEG5h6RVdFdaCSW98KaIkk90qGQgEKhAIACoHCAow2Nb3CjDivdcCMMHF0wY?hl=en-US&gl=US&ceid=US%3Aen']\n-------------------------------------------------- News_ 6 --------------------------------------------------\n[\"Russia is 'amplifying' claims of mail-in voter fraud, intel bulletin warns\"]\n['https://news.google.com./articles/CBMiamh0dHBzOi8vYWJjbmV3cy5nby5jb20vUG9saXRpY3MvcnVzc2lhLWFtcGxpZnlpbmctY2xhaW1zLW1haWwtdm90ZXItZnJhdWQtaW50ZWwtYnVsbGV0aW4vc3Rvcnk_aWQ9NzI3OTk5NTnSAW5odHRwczovL2FiY25ld3MuZ28uY29tL2FtcC9Qb2xpdGljcy9ydXNzaWEtYW1wbGlmeWluZy1jbGFpbXMtbWFpbC12b3Rlci1mcmF1ZC1pbnRlbC1idWxsZXRpbi9zdG9yeT9pZD03Mjc5OTk1OQ?hl=en-US&gl=US&ceid=US%3Aen']\n"
    }
   ],
   "source": [
    "scrape_headline_news()"
   ]
  }
 ]
}