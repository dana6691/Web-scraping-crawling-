{
 "metadata": {
  "language_info": {
   "codemirror_mode": {
    "name": "ipython",
    "version": 3
   },
   "file_extension": ".py",
   "mimetype": "text/x-python",
   "name": "python",
   "nbconvert_exporter": "python",
   "pygments_lexer": "ipython3",
   "version": "3.8.5-final"
  },
  "orig_nbformat": 2,
  "kernelspec": {
   "name": "python_defaultSpec_1598375668196",
   "display_name": "Python 3.8.5 64-bit"
  }
 },
 "nbformat": 4,
 "nbformat_minor": 2,
 "cells": [
  {
   "cell_type": "markdown",
   "metadata": {},
   "source": [
    "# House Price in Minneapolis(MN)\n",
    "- from Zillow"
   ]
  },
  {
   "cell_type": "code",
   "execution_count": 83,
   "metadata": {
    "tags": []
   },
   "outputs": [
    {
     "output_type": "stream",
     "name": "stdout",
     "text": "==================== House_1 ====================\nprice:  $1,750,000\naddress:  2440 Cedar Ln, Minneapolis, MN 55416\nbed/bath: 4 bds,5 ba\nsize:  5,120 sqft\n==================== House_2 ====================\nprice:  $225,000\naddress:  2115 3rd St NE, Minneapolis, MN 55418\nbed/bath: 2 bds,2 ba\nsize:  1,074 sqft\n==================== House_3 ====================\nprice:  $335,000\naddress:  5525 Nokomis Ave, Minneapolis, MN 55417\nbed/bath: 4 bds,2 ba\nsize:  1,726 sqft\n==================== House_4 ====================\nprice:  $250,000\naddress:  1908 44th Ave N, Minneapolis, MN 55412\nbed/bath: 3 bds,1 ba\nsize:  1,792 sqft\n==================== House_5 ====================\nprice:  $160,000\naddress:  2201 21st Ave S, Minneapolis, MN 55404\nbed/bath: 3 bds,1 ba\nsize:  1,376 sqft\n==================== House_6 ====================\nprice:  $550,000\naddress:  2404 Grand Ave S, Minneapolis, MN 55405\nbed/bath: 4 bds,3 ba\nsize:  3,084 sqft\n==================== House_7 ====================\nprice:  $299,900\naddress:  2931 Girard Ave N, Minneapolis, MN 55411\nbed/bath: 5 bds,4 ba\nsize:  3,084 sqft\n==================== House_8 ====================\nprice:  $179,900\naddress:  4222 Sheridan Ave N, Minneapolis, MN 55412\nbed/bath: 3 bds,2 ba\nsize:  922 sqft\n==================== House_9 ====================\nprice:  $3,150,000\naddress:  301 Kenwood Pkwy APT 701, Minneapolis, MN 55403\nbed/bath: 3 bds,4 ba\nsize:  3,925 sqft\n==================== House_10 ====================\nprice:  $220,000\naddress:  2319 Emerson Ave N, Minneapolis, MN 55411\nbed/bath: 4 bds,2 ba\nsize:  2,156 sqft\n==================== House_11 ====================\nprice:  $610,000\naddress:  2944 46th Ave S, Minneapolis, MN 55406\nbed/bath: 4 bds,2 ba\nsize:  2,400 sqft\n==================== House_12 ====================\nprice:  $5,995,000\naddress:  1300 Mount Curve Ave, Minneapolis, MN 55403\nbed/bath: 10 bds,11 ba\nsize:  14,399 sqft\n==================== House_13 ====================\nprice:  $329,900\naddress:  4417 47th Ave S, Minneapolis, MN 55406\nbed/bath: 3 bds,2 ba\nsize:  1,890 sqft\n==================== House_14 ====================\nprice:  $224,900\naddress:  3114 Knox Ave N, Minneapolis, MN 55411\nbed/bath: 3 bds,2 ba\nsize:  1,250 sqft\n==================== House_15 ====================\nprice:  $3,595,000\naddress:  3790 W Bde Maka Ska Pkwy, Minneapolis, MN 55410\nbed/bath: 2 bds,2 ba\nsize:  3,026 sqft\n==================== House_16 ====================\nprice:  $149,900\naddress:  3306 Bryant Ave N, Minneapolis, MN 55412\nbed/bath: 3 bds,2 ba\nsize:  1,628 sqft\n==================== House_17 ====================\nprice:  $249,900\naddress:  3901 18th Ave S, Minneapolis, MN 55407\nbed/bath: 3 bds,2 ba\nsize:  1,677 sqft\n==================== House_18 ====================\nprice:  $545,000\naddress:  5612 Harriet Ave S, Minneapolis, MN 55419\nbed/bath: 4 bds,2 ba\nsize:  2,630 sqft\n==================== House_19 ====================\nprice:  $299,900\naddress:  3925 10th Ave S, Minneapolis, MN 55407\nbed/bath: 3 bds,2 ba\nsize:  1,296 sqft\n==================== House_20 ====================\nprice:  $250,000\naddress:  2314 Buchanan St NE, Minneapolis, MN 55418\nbed/bath: 3 bds,4 ba\nsize:  2,398 sqft\n==================== House_21 ====================\nprice:  $699,900\naddress:  5824 Dupont Ave S, Minneapolis, MN 55419\nbed/bath: 5 bds,4 ba\nsize:  3,400 sqft\n==================== House_22 ====================\nprice:  $300,000\naddress:  3805 10th Ave S, Minneapolis, MN 55407\nbed/bath: 3 bds,2 ba\nsize:  1,276 sqft\n==================== House_23 ====================\nprice:  $275,000\naddress:  4019 38th Ave S, Minneapolis, MN 55406\nbed/bath: 3 bds,2 ba\nsize:  1,160 sqft\n==================== House_24 ====================\nprice:  $260,000\naddress:  709 24th Ave NE, Minneapolis, MN 55418\nbed/bath: 3 bds,1 ba\nsize:  1,045 sqft\n==================== House_25 ====================\nprice:  $266,900\naddress:  3848 Elliot Ave, Minneapolis, MN 55407\nbed/bath: 3 bds,2 ba\nsize:  1,886 sqft\n==================== House_26 ====================\nprice:  $269,900\naddress:  3611 26th Ave S, Minneapolis, MN 55406\nbed/bath: 3 bds,1 ba\nsize:  1,133 sqft\n==================== House_27 ====================\nprice:  $329,900\naddress:  1521 E 57th St, Minneapolis, MN 55417\nbed/bath: 3 bds,2 ba\nsize:  1,806 sqft\n==================== House_28 ====================\nprice:  $339,900\naddress:  3733 35th Ave S, Minneapolis, MN 55406\nbed/bath: 3 bds,2 ba\nsize:  1,986 sqft\n==================== House_29 ====================\nprice:  $190,000\naddress:  4408 3rd Ave S, Minneapolis, MN 55419\nbed/bath: 2 bds,1 ba\nsize:  882 sqft\n==================== House_30 ====================\nprice:  $265,900\naddress:  2312 E 35th St, Minneapolis, MN 55406\nbed/bath: 3 bds,1 ba\nsize:  1,269 sqft\n==================== House_31 ====================\nprice:  $329,900\naddress:  3444 Pillsbury Ave S, Minneapolis, MN 55408\nbed/bath: 3 bds,2 ba\nsize:  1,472 sqft\n==================== House_32 ====================\nprice:  $250,000\naddress:  2100 19th Ave NE, Minneapolis, MN 55418\nbed/bath: 3 bds,2 ba\nsize:  1,244 sqft\n==================== House_33 ====================\nprice:  $2,899,900\naddress:  1718 Oliver Ave S, Minneapolis, MN 55405\nbed/bath: 5 bds,5 ba\nsize:  4,331 sqft\n==================== House_34 ====================\nprice:  $197,900\naddress:  815 18 1/2 Ave NE, Minneapolis, MN 55418\nbed/bath: 3 bds,1 ba\nsize:  1,211 sqft\n==================== House_35 ====================\nprice:  $125,000\naddress:  1801 Elliot Ave APT 7, Minneapolis, MN 55404\nbed/bath: 2 bds,1 ba\nsize:  1,020 sqft\n==================== House_36 ====================\nprice:  $189,900\naddress:  3207 Johnson St NE, Minneapolis, MN 55418\nbed/bath: 1 bd,1 ba\nsize:  768 sqft\n==================== House_37 ====================\nprice:  $299,900\naddress:  3526 Buchanan St NE, Minneapolis, MN 55418\nbed/bath: 3 bds,1 ba\nsize:  1,683 sqft\n==================== House_38 ====================\nprice:  $3,295,000\naddress:  4728 W Lake Harriet Pkwy, Minneapolis, MN 55410\nbed/bath: 6 bds,7 ba\nsize:  5,872 sqft\n==================== House_39 ====================\nprice:  $199,900\naddress:  3201 Portland Ave, Minneapolis, MN 55407\nbed/bath: 4 bds,1 ba\nsize:  1,986 sqft\n==================== House_40 ====================\nprice:  $184,900\naddress:  4548 Colfax Ave N, Minneapolis, MN 55412\nbed/bath: 2 bds,1 ba\nsize:  856 sqft\n==================== House_41 ====================\nprice:  $257,500\naddress:  3534 26th Ave S, Minneapolis, MN 55406\nbed/bath: 2 bds,1 ba\nsize:  957 sqft\n==================== House_42 ====================\nprice:  $220,000\naddress:  3509 15th Ave S, Minneapolis, MN 55407\nbed/bath: 3 bds,2 ba\nsize:  1,058 sqft\n==================== House_43 ====================\nprice:  $550,000\naddress:  4509 Grand Ave S, Minneapolis, MN 55419\nbed/bath: 3 bds,3 ba\nsize:  2,046 sqft\n==================== House_44 ====================\nprice:  $405,000\naddress:  1701 Madison St NE UNIT 403, Minneapolis, MN 55413\nbed/bath: 2 bds,2 ba\nsize:  1,360 sqft\n==================== House_45 ====================\nprice:  $310,000\naddress:  419 7th Ave NE, Minneapolis, MN 55413\nbed/bath: 3 bds,2 ba\nsize:  1,398 sqft\n==================== House_46 ====================\nprice:  $195,000\naddress:  3114 Ulysses St NE, Minneapolis, MN 55418\nbed/bath: 2 bds,1 ba\nsize:  762 sqft\n==================== House_47 ====================\nprice:  $434,900\naddress:  3732 Lyndale Ave S, Minneapolis, MN 55409\nbed/bath: 4 bds,3 ba\nsize:  2,160 sqft\n==================== House_48 ====================\nprice:  $182,500\naddress:  4400 Upton Ave, Minneapolis, MN 55410\nbed/bath: 1 bd,1 ba\nsize:  770 sqft\n==================== House_49 ====================\nprice:  $349,900\naddress:  5449 31st Ave S, Minneapolis, MN 55417\nbed/bath: 4 bds,2 ba\nsize:  2,076 sqft\n==================== House_50 ====================\nprice:  $549,900\naddress:  2409 Bryant Ave S, Minneapolis, MN 55405\nbed/bath: 5 bds,2 ba\nsize:  3,422 sqft\n==================== House_51 ====================\nprice:  $314,900\naddress:  3316 E 54th St, Minneapolis, MN 55417\nbed/bath: 3 bds,2 ba\nsize:  1,914 sqft\n==================== House_52 ====================\nprice:  $300,000\naddress:  4135 Queen Ave N, Minneapolis, MN 55412\nbed/bath: 3 bds,3 ba\nsize:  3,100 sqft\n==================== House_53 ====================\nprice:  $649,900\naddress:  3810 Ewing Ave S, Minneapolis, MN 55410\nbed/bath: 4 bds,3 ba\nsize:  2,218 sqft\n==================== House_54 ====================\nprice:  $269,900\naddress:  3449 4th Ave S, Minneapolis, MN 55408\nbed/bath: 3 bds,2 ba\nsize:  1,605 sqft\n==================== House_55 ====================\nprice:  $2,495,000\naddress:  247 10th Ave S, Minneapolis, MN 55415\nbed/bath: 4 bds,3 ba\nsize:  4,547 sqft\n==================== House_56 ====================\nprice:  $248,800\naddress:  3331 Hennepin Ave, Minneapolis, MN 55408\nbed/bath: 3 bds,2 ba\nsize:  1,126 sqft\n==================== House_57 ====================\nprice:  $429,900\naddress:  4600 Pillsbury Ave S, Minneapolis, MN 55419\nbed/bath: 3 bds,2 ba\nsize:  1,740 sqft\n==================== House_58 ====================\nprice:  $275,000\naddress:  2811 30th Ave S, Minneapolis, MN 55406\nbed/bath: 3 bds,2 ba\nsize:  1,656 sqft\n==================== House_59 ====================\nprice:  $359,900\naddress:  3214 35th Ave S, Minneapolis, MN 55406\nbed/bath: 4 bds,2 ba\nsize:  1,640 sqft\n==================== House_60 ====================\nprice:  $215,000\naddress:  433 S 7th St APT 1714, Minneapolis, MN 55415\nbed/bath: 2 bds,2 ba\nsize:  995 sqft\n==================== House_61 ====================\nprice:  $750,000\naddress:  2624 Bryant Ave S, Minneapolis, MN 55408\nbed/bath: 5 bds,3 ba\nsize:  3,576 sqft\n==================== House_62 ====================\nprice:  $825,000\naddress:  220 E Minnehaha Pkwy, Minneapolis, MN 55419\nbed/bath: 4 bds,4 ba\nsize:  2,890 sqft\n==================== House_63 ====================\nprice:  $220,000\naddress:  121 Washington Ave S APT 603, Minneapolis, MN 55401\nbed/bath: 1 bd,1 ba\nsize:  771 sqft\n==================== House_64 ====================\nprice:  $575,000\naddress:  2536 Pillsbury Ave S, Minneapolis, MN 55404\nbed/bath: 4 bds,2 ba\nsize:  3,467 sqft\n==================== House_65 ====================\nprice:  $335,000\naddress:  3350 Tyler St NE, Minneapolis, MN 55418\nbed/bath: 4 bds,2 ba\nsize:  2,002 sqft\n==================== House_66 ====================\nprice:  $270,000\naddress:  3615 3rd St NE, Minneapolis, MN 55418\nbed/bath: 3 bds,2 ba\nsize:  1,729 sqft\n==================== House_67 ====================\nprice:  $399,000\naddress:  4404 Abbott Ave S, Minneapolis, MN 55410\nbed/bath: 4 bds,2 ba\nsize:  1,949 sqft\n==================== House_68 ====================\nprice:  $219,900\naddress:  1909 Russell Ave N, Minneapolis, MN 55411\nbed/bath: 5 bds,2 ba\nsize:  1,780 sqft\n==================== House_69 ====================\nprice:  $229,900\naddress:  127 5th St NE APT G04, Minneapolis, MN 55413\nbed/bath: 1 bd,1 ba\nsize:  986 sqft\n==================== House_70 ====================\nprice:  $549,900\naddress:  4620 Drew Ave S, Minneapolis, MN 55410\nbed/bath: 4 bds,3 ba\nsize:  1,946 sqft\n==================== House_71 ====================\nprice:  $599,000\naddress:  3810 Glendale Ter, Minneapolis, MN 55410\nbed/bath: 3 bds,3 ba\nsize:  1,650 sqft\n==================== House_72 ====================\nprice:  $729,900\naddress:  4837 Woodlawn Blvd, Minneapolis, MN 55417\nbed/bath: 5 bds,4 ba\nsize:  3,264 sqft\n==================== House_73 ====================\nprice:  $259,900\naddress:  4151 2nd Ave S, Minneapolis, MN 55409\nbed/bath: 4 bds,2 ba\nsize:  1,182 sqft\n==================== House_74 ====================\nprice:  $199,900\naddress:  1611 E 31st St, Minneapolis, MN 55407\nbed/bath: 2 bds,1 ba\nsize:  1,023 sqft\n==================== House_75 ====================\nprice:  $750,000\naddress:  3826 W Bde Maka Ska Pkwy, Minneapolis, MN 55410\nbed/bath: 2 bds,2 ba\nsize:  1,636 sqft\n==================== House_76 ====================\nprice:  $234,900\naddress:  2812 31st Ave S, Minneapolis, MN 55406\nbed/bath: 2 bds,1 ba\nsize:  1,108 sqft\n==================== House_77 ====================\nprice:  $284,900\naddress:  4238 Stevens Ave, Minneapolis, MN 55409\nbed/bath: 3 bds,2 ba\nsize:  1,722 sqft\n==================== House_78 ====================\nprice:  $4,900,000\naddress:  2201 E Lake Of The Isles Pkwy, Minneapolis, MN 55405\nbed/bath: 5 bds,8 ba\nsize:  7,301 sqft\n==================== House_79 ====================\nprice:  $479,000\naddress:  5300 14th Ave S, Minneapolis, MN 55417\nbed/bath: 3 bds,2 ba\nsize:  2,580 sqft\n==================== House_80 ====================\nprice:  $399,000\naddress:  224 Xerxes Ave N, Minneapolis, MN 55405\nbed/bath: 3 bds,2 ba\nsize:  2,195 sqft\n"
    }
   ],
   "source": [
    "from bs4 import BeautifulSoup\n",
    "from selenium import webdriver\n",
    "import requests\n",
    "\n",
    "index = 0\n",
    "for page in range(1,3):\n",
    "    url = \"https://www.zillow.com/minneapolis-mn/?searchQueryState=%7B%22pagination%22%3A%7B%22currentPage%22%3A{}%7D%2C%22mapBounds%22%3A%7B%22west%22%3A-93.36086943725586%2C%22east%22%3A-93.16208556274414%2C%22south%22%3A44.878137921419686%2C%22north%22%3A45.06321989915586%7D%2C%22regionSelection%22%3A%5B%7B%22regionId%22%3A5983%2C%22regionType%22%3A6%7D%5D%2C%22isMapVisible%22%3Atrue%2C%22mapZoom%22%3A12%2C%22filterState%22%3A%7B%22sort%22%3A%7B%22value%22%3A%22globalrelevanceex%22%7D%7D%2C%22isListVisible%22%3Atrue%7D\".format(page)\n",
    "    driver = webdriver.Chrome('/Users/daheekim/Desktop/VisualStudio/Web-scraping-crawling-/Selenium/chromedriver') \n",
    "    driver.get(url)\n",
    "    driver.maximize_window()\n",
    "    driver.execute_script(\"window.scrollTo(0, document.body.scrollHeight)\")\n",
    "    soup = BeautifulSoup(driver.page_source, \"lxml\")\n",
    "    houses = soup.find_all(\"div\", attrs={\"class\":\"list-card-info\"})\n",
    "    for house in houses:\n",
    "        price = house.find(\"div\", attrs={\"class\":\"list-card-price\"}).get_text()\n",
    "        address = house.find(\"address\", attrs={\"class\":\"list-card-addr\"}).get_text()\n",
    "        detail = [detail.get_text() for detail in house.find(\"ul\", attrs={\"class\":\"list-card-details\"})]\n",
    "        index +=1\n",
    "        print(\"=\"*20,\"House_{}\".format(index),\"=\"*20)\n",
    "        print(\"price: \",price)\n",
    "        print(\"address: \",address)\n",
    "        print(\"bed/bath: {},{}\".format(detail[0],detail[1]))\n",
    "        print(\"size: \",detail[2])\n"
   ]
  },
  {
   "cell_type": "code",
   "execution_count": 82,
   "metadata": {
    "tags": []
   },
   "outputs": [],
   "source": [
    "from bs4 import BeautifulSoup\n",
    "from selenium import webdriver\n",
    "\n",
    "\n",
    "url = \"https://www.zillow.com/minneapolis-mn/?searchQueryState=%7B%22pagination%22%3A%7B%22currentPage%22%3A1%7D%2C%22mapBounds%22%3A%7B%22west%22%3A-93.36086943725586%2C%22east%22%3A-93.16208556274414%2C%22south%22%3A44.878137921419686%2C%22north%22%3A45.06321989915586%7D%2C%22regionSelection%22%3A%5B%7B%22regionId%22%3A5983%2C%22regionType%22%3A6%7D%5D%2C%22isMapVisible%22%3Atrue%2C%22mapZoom%22%3A12%2C%22filterState%22%3A%7B%22sort%22%3A%7B%22value%22%3A%22globalrelevanceex%22%7D%7D%2C%22isListVisible%22%3Atrue%7D\"\n",
    "driver = webdriver.Chrome('/Users/daheekim/Desktop/VisualStudio/Web-scraping-crawling-/Selenium/chromedriver') \n",
    "driver.get(url)\n",
    "import time\n",
    "interval = 10 # scroll down every 2 seconds\n",
    "\n",
    "time.sleep(interval)\n",
    "driver.execute_script(\"window.scrollTo(0, document.body.scrollHeight)\")\n",
    "  "
   ]
  },
  {
   "cell_type": "code",
   "execution_count": null,
   "metadata": {},
   "outputs": [],
   "source": []
  }
 ]
}