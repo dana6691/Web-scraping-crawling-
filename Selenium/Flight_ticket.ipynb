{
 "metadata": {
  "language_info": {
   "codemirror_mode": {
    "name": "ipython",
    "version": 3
   },
   "file_extension": ".py",
   "mimetype": "text/x-python",
   "name": "python",
   "nbconvert_exporter": "python",
   "pygments_lexer": "ipython3",
   "version": "3.8.5-final"
  },
  "orig_nbformat": 2,
  "kernelspec": {
   "name": "python_defaultSpec_1599173031772",
   "display_name": "Python 3.8.5 64-bit"
  }
 },
 "nbformat": 4,
 "nbformat_minor": 2,
 "cells": [
  {
   "cell_type": "markdown",
   "metadata": {},
   "source": [
    "# Google Flight Information\n",
    "- flight to Chicago\n",
    "- date 2020/9/14 -2020/9/16\n",
    "- find flight information(time, duration, price)"
   ]
  },
  {
   "cell_type": "code",
   "execution_count": 55,
   "metadata": {},
   "outputs": [],
   "source": [
    "from selenium import webdriver\n",
    "from selenium.webdriver.common.by import By\n",
    "from selenium.webdriver.support.ui import WebDriverWait\n",
    "from selenium.webdriver.support import expected_conditions as EC\n",
    "\n",
    "browser = webdriver.Chrome('/Users/daheekim/Desktop/VisualStudio/Web-scraping-crawling-/Selenium/chromedriver') \n",
    "url = \"https://www.google.com/flights?hl=en#flt=/m/013l6l..2020-09-09*./m/013l6l.2020-09-13;c:USD;e:1;ls:1w;sd:0;t:h\"\n",
    "browser.get(url)\n",
    "\n",
    "#destination\n",
    "browser.find_element_by_xpath(\"//*[@id='flt-app']/div[2]/main[1]/div[4]/div/div[3]/div/div[2]/div[2]\").click()\n",
    "browser.find_element_by_xpath(\"//*[@id='sb_ifc50']/input\").send_keys(\"Chicago\")\n",
    "from selenium.webdriver.common.keys import Keys\n",
    "browser.find_element_by_xpath(\"//*[@id='sb_ifc50']/input\").send_keys(Keys.ENTER)\n",
    "\n",
    "#date\n",
    "browser.find_element_by_xpath(\"//*[@id='flt-app']/div[2]/main[1]/div[4]/div/div[3]/div/div[2]/div[4]/div[1]/div[2]/span\").click()\n",
    "browser.find_element_by_xpath(\"//*[@data-day='2020-09-14']\").click()\n",
    "browser.find_element_by_xpath(\"//*[@data-day='2020-09-16']\").click()\n",
    "browser.find_element_by_class_name(\"eE8hUfzg9Na__overlay\").click()\n"
   ]
  },
  {
   "cell_type": "code",
   "execution_count": 56,
   "metadata": {
    "tags": []
   },
   "outputs": [
    {
     "output_type": "stream",
     "name": "stdout",
     "text": "3:28 PM   –   11:58 PM    8h 30m    $138   \n----------------------------------------------------------------------------------------------------\n   8:00 AM   –   9:44 AM    1h 44m       $601   \n----------------------------------------------------------------------------------------------------\n   6:06 AM   –   7:45 AM    1h 39m       $662   \n----------------------------------------------------------------------------------------------------\n   3:28 PM   –   9:34 AM+1    18h 6m    $108   \n----------------------------------------------------------------------------------------------------\n   5:45 PM   –   11:00 PM    5h 15m       $379   \n----------------------------------------------------------------------------------------------------\n   5:52 PM   –   9:10 AM+1    15h 18m       $466   \n----------------------------------------------------------------------------------------------------\n   11:00 AM   –   12:44 PM    1h 44m       $601   \n----------------------------------------------------------------------------------------------------\n   3:00 PM   –   4:44 PM    1h 44m       $601   \n----------------------------------------------------------------------------------------------------\n   5:18 PM   –   7:02 PM    1h 44m       $662   \n----------------------------------------------------------------------------------------------------\n   5:52 PM   –   9:29 PM    3h 37m       $707   \n----------------------------------------------------------------------------------------------------\n   3:30 PM   –   6:36 PM    3h 6m       $859   \n----------------------------------------------------------------------------------------------------\n"
    }
   ],
   "source": [
    "import requests\n",
    "from bs4 import BeautifulSoup\n",
    "import re\n",
    "\n",
    "soup = BeautifulSoup(browser.page_source, \"lxml\")\n",
    "movies = soup.find_all(\"li\", attrs={\"class\":\"gws-flights-results__result-item gws-flights__flex-box gws-flights-results__collapsed\"})\n",
    "\n",
    "for movie in movies:\n",
    "    time = movie.find(\"div\", attrs={\"class\":\"gws-flights-results__times flt-subhead1\"}).get_text()\n",
    "    duration = movie.find(\"div\",attrs={\"class\":\"gws-flights-results__duration flt-subhead1Normal\"}).get_text()\n",
    "    price = movie.find(\"div\", attrs={\"class\":re.compile(\"flt-subhead1 gws-flights-results__price\")}).get_text()\n",
    "    print(\"-\"*100)\n",
    "    print(time,duration, price)"
   ]
  },
  {
   "cell_type": "markdown",
   "metadata": {},
   "source": [
    "# Naver Flight"
   ]
  },
  {
   "cell_type": "code",
   "execution_count": 64,
   "metadata": {
    "tags": []
   },
   "outputs": [],
   "source": [
    "from selenium import webdriver\n",
    "from selenium.webdriver.common.by import By\n",
    "from selenium.webdriver.support.ui import WebDriverWait\n",
    "from selenium.webdriver.support import expected_conditions as EC\n",
    "\n",
    "browser = webdriver.Chrome('/Users/daheekim/Desktop/VisualStudio/Web-scraping-crawling-/Selenium/chromedriver') \n",
    "browser.maximize_window() # maximize browser\n",
    "\n",
    "url = \"https://flight.naver.com/flights/\"\n",
    "browser.get(url) \n",
    "\n",
    "# choose date\n",
    "browser.find_element_by_link_text(\"가는날 선택\").click()\n",
    "\n",
    "# this month 27, next month 28\n",
    "browser.find_elements_by_link_text(\"27\")[0].click() # [0] -> this month\n",
    "browser.find_elements_by_link_text(\"28\")[1].click() # [1] -> next month\n",
    "\n",
    "# select jeju island\n",
    "browser.find_element_by_xpath(\"//*[@id='recommendationList']/ul/li[1]\").click()\n",
    "\n",
    "# search click\n",
    "browser.find_element_by_link_text(\"항공권 검색\").click()\n"
   ]
  },
  {
   "cell_type": "code",
   "execution_count": 65,
   "metadata": {
    "tags": []
   },
   "outputs": [
    {
     "output_type": "stream",
     "name": "stdout",
     "text": "에어서울\n출발지\nGMP\n06:00\n도착지\nCJU\n07:00\n총 소요시간\n01시간 00분\n할인석\n편도 35,900원\n성인\n"
    }
   ],
   "source": [
    "elem = WebDriverWait(browser, 10).until(EC.presence_of_element_located((By.XPATH, \"//*[@id='content']/div[2]/div/div[4]/ul/li[1]\")))\n",
    "print(elem.text) # first search result"
   ]
  }
 ]
}