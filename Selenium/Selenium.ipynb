{
 "metadata": {
  "language_info": {
   "codemirror_mode": {
    "name": "ipython",
    "version": 3
   },
   "file_extension": ".py",
   "mimetype": "text/x-python",
   "name": "python",
   "nbconvert_exporter": "python",
   "pygments_lexer": "ipython3",
   "version": "3.7.8-final"
  },
  "orig_nbformat": 2,
  "kernelspec": {
   "name": "python_defaultSpec_1598306305170",
   "display_name": "Python 3.7.8 64-bit"
  }
 },
 "nbformat": 4,
 "nbformat_minor": 2,
 "cells": [
  {
   "cell_type": "markdown",
   "metadata": {},
   "source": [
    "# Basic\n",
    "- we need to install web driver\n",
    "    - Firefox\n",
    "    - Chrome\n",
    "    - Opera\n",
    "    - Remote\n",
    "    - Proxy\n",
    "- check chrome version (three dot --> Help --> About google chrome)\n",
    "- download the chromedriver by the version"
   ]
  },
  {
   "cell_type": "markdown",
   "metadata": {},
   "source": [
    "# python change: alias python=\"python3\""
   ]
  },
  {
   "cell_type": "code",
   "execution_count": null,
   "metadata": {},
   "outputs": [],
   "source": [
    "from selenium import webdriver\n",
    "from selenium.webdriver.common.keys import Keys\n",
    "\n",
    "driver = webdriver.Chrome('/Users/daheekim/Desktop/VisualStudio/Web-scraping-crawling-/Selenium/chromedriver') \n",
    "driver.get('https://www.google.com/')\n",
    "search_box = driver.find_element_by_name('q') #input name is q\n",
    "search_box.send_keys('ChromeDriver') #write on search bar\n",
    "\n",
    "#ENTER search\n",
    "#1)using submit()\n",
    "search_box.submit() \n",
    "#2)using xpath: inspect search button and copy xpath\n",
    "#*if there's double quotes(\"\") inside the xpath, change it to single quote('')\n",
    "search_box = driver.find_element_by_xpath(\"//*[@id='tsf']/div[2]/div[1]/div[2]/div[2]/div[2]/center/input[1]\")\n",
    "#search_box\n",
    "search_box.click()\n",
    "#3)using keys.enter\n",
    "search_box.send_keys(Keys.ENTER)\n",
    "\n",
    "#move forward/back/refresh\n",
    "driver.back()\n",
    "driver.forward()\n",
    "driver.refresh()\n",
    "\n",
    "#find tag with a := to find multiple element, use elements\n",
    "elem = driver.find_elements_by_tag_name(\"a\") \n",
    "for e in elem: \n",
    "    e.get_attribute(\"href\")#enter twice\n",
    "\n",
    "driver.quit()"
   ]
  },
  {
   "cell_type": "markdown",
   "metadata": {},
   "source": [
    "# login "
   ]
  },
  {
   "cell_type": "code",
   "execution_count": 7,
   "metadata": {
    "tags": []
   },
   "outputs": [
    {
     "output_type": "stream",
     "name": "stdout",
     "text": "<html lang=\"en\"><head>\n\t<meta charset=\"UTF-8\">\n\t<meta http-equiv=\"X-UA-Compatible\" content=\"IE=edge\">\n\t<meta name=\"viewport\" content=\"width=device-width, initial-scale=1.0, maximum-scale=1.0, minimum-scale=1.0, user-scalable=no\">\n\t<title>Naver Sign in</title>\n\t<link rel=\"stylesheet\" type=\"text/css\" href=\"/login/css/global/desktop/w_20190509.css?dt=20190509\">\n</head>\n<body class=\"global chrome\">\n<div id=\"wrap\">\n\t<!-- header -->\n\t<div id=\"header\">\n\t\t<h1><a href=\"https://www.naver.com\" class=\"sp h_logo\" id=\"l5f.naver\"><span class=\"blind\">NAVER</span></a></h1>\n\t</div>\n\t<!-- //header -->\n\t<!-- container -->\n\t<div id=\"container\">\n\t\t<!-- content -->\n\t\t<div id=\"content\">\n\t\t\t<div class=\"title\" aria-live=\"assertive\">\n\t\t\t\t<p>Please enter the password and security code for your safety. </p>\n\t\t\t</div>\n\t\t\t<form id=\"frmNIDLogin\" name=\"frmNIDLogin\" target=\"_top\" autocomplete=\"off\" action=\"https://nid.naver.com/nidlogin.login\" method=\"POST\">\n\t        <input type=\"hidden\" name=\"logintp\" id=\"logintp\" value=\"null\">\n<input type=\"hidden\" name=\"encpw\" id=\"encpw\" value=\"\">\n<input type=\"hidden\" name=\"enctp\" id=\"enctp\" value=\"1\">\n<input type=\"hidden\" name=\"svctype\" id=\"svctype\" value=\"1\">\n<input type=\"hidden\" name=\"smart_LEVEL\" id=\"smart_LEVEL\" value=\"1\">\n<input type=\"hidden\" name=\"encnm\" id=\"encnm\" value=\"\">\n<input type=\"hidden\" name=\"bvsd\" id=\"bvsd\" value=\"\">\n<input type=\"hidden\" name=\"locale\" id=\"locale\" value=\"en_US\">\n<input type=\"hidden\" name=\"chptchakey\" id=\"chptchakey\" value=\"Km1MQPm34ccHkrO3\">\n<input type=\"hidden\" name=\"captcha_type\" id=\"captcha_type\" value=\"image\">\n<input type=\"hidden\" name=\"url\" id=\"url\" value=\"https://www.naver.com\">\n\n\t\t\t\t<fieldset class=\"login_form\">\n\t\t\t\t\t<legend class=\"blind\">Sign in</legend>\n\t\t\t\t\t<div class=\"id_area\">\n\t\t\t\t\t\t<div class=\"input_row focus\" id=\"id_area\">\n\t\t\t\t\t\t\t<span class=\"input_box\">\n\t\t\t\t\t\t\t\t<label for=\"id\" id=\"label_id_area\" class=\"lbl\" style=\"display:none\">Username</label>\n\t\t\t\t\t\t\t\t<input type=\"text\" id=\"id\" name=\"id\" accesskey=\"L\" placeholder=\"Username\" class=\"int\" maxlength=\"41\" value=\"\">\n\t\t\t\t\t\t\t</span>\n\t\t\t\t\t\t\t<button type=\"button\" disabled=\"\" title=\"delete\" id=\"id_clear\" class=\"wrg\">delete</button>\n\t\t\t\t\t\t</div>\n\t\t\t\t\t\t<div class=\"error\" id=\"err_empty_id\" style=\"display:none\" aria-live=\"assertive\"></div>\n\t\t\t\t\t</div>\n\t\t\t\t\t<div class=\"pw_area\">\n\t\t\t\t\t\t<div class=\"input_row\" id=\"pw_area\">\n\t\t\t\t\t\t\t<span class=\"input_box\">\n\t\t\t\t\t\t\t\t<label for=\"pw\" id=\"label_pw_area\" class=\"lbl\">Password</label>\n\t\t\t\t\t\t\t\t<input type=\"password\" id=\"pw\" name=\"pw\" placeholder=\"Password\" class=\"int\" maxlength=\"16\">\n\t\t\t\t\t\t\t</span>\n\t\t\t\t\t\t\t<button type=\"button\" disabled=\"\" title=\"delete\" id=\"pw_clear\" class=\"wrg\">delete</button>\n\t\t\t\t\t\t\t<div class=\"ly_v2\" id=\"err_capslock\" style=\"display:none;\">\n\t\t\t\t\t\t\t\t<div class=\"ly_box\">\n\t\t\t\t\t\t\t\t\t<p><strong>Caps Lock</strong> is on.</p>\n\t\t\t\t\t\t\t\t</div>\n\t\t\t\t\t\t\t\t<span class=\"sp ly_point\"></span>\n\t\t\t\t\t\t\t</div>\n\t\t\t\t\t\t</div>\n\t\t\t\t\t\t<div class=\"error\" id=\"err_empty_pw\" style=\"display:none\" aria-live=\"assertive\"></div>\n\t\t\t\t\t</div>\n\t\t\t\t\t<div class=\"captcha\">\n\t\t\t\t\t\t<p class=\"captcha_txt\" id=\"captcha_info\">Please enter the code shown below.</p>\n\t\t\t\t\t\t<div class=\"captcha_box\" id=\"image_captcha\">\n\t\t\t\t\t\t\t<span class=\"captcha_img\"><img id=\"captchaimg\" src=\"https://captcha.nid.naver.com/nhncaptchav4.gif?key=Km1MQPm34ccHkrO3&amp;1\" width=\"100%\" height=\"100%\" alt=\"Image Code\"></span>\n\t\t\t\t\t\t\t<a href=\"#\" id=\"l5f.refresh\" class=\"btn_refresh\"><span class=\"sp\">Try a new code</span></a>\n\t\t\t\t\t\t\t<a href=\"#\" id=\"l5f.audio\" class=\"btn_sound\"><span class=\"sp\">Audio Code</span></a>\n\t\t\t\t\t\t</div>\n\t\t\t\t\t\t<div class=\"captcha_box capcha_sound\" id=\"sound_captcha\" style=\"display:none;\">\n\t\t\t\t\t\t\t<span class=\"captcha_img\"><span class=\"sp speaker\"></span>\n\t\t\t\t\t\t\t\t\t<span class=\"audio_txt\" id=\"audio_txt\">Audio code is playing. (Playback after 3 start tones)</span>\n\t\t\t\t\t\t\t\t</span>\n\t\t\t\t\t\t\t<a href=\"#\" id=\"play_audio\" class=\"btn_refresh\"><span class=\"sp\">Try a new code</span></a>\n\t\t\t\t\t\t\t<a href=\"#\" id=\"l5f.img\" class=\"btn_img\"><span class=\"sp\">Image Code</span></a>\n\t\t\t\t\t\t</div>\n\t\t\t\t\t\t<div class=\"input_row\" id=\"chptcha_area\">\n\t\t\t\t\t\t\t<span class=\"input_box\">\n\t\t\t\t\t\t\t\t<label for=\"chptcha\" class=\"lbl\" id=\"label_chptcha_area\">Code</label><input type=\"text\" id=\"chptcha\" name=\"chptcha\" placeholder=\"Code\" class=\"int\">\n\t\t\t\t\t\t\t</span>\n\t\t\t\t\t\t\t<button type=\"button\" id=\"chptcha_clear\" disabled=\"\" title=\"delete\" class=\"wrg\">delete </button>\n\t\t\t\t\t\t</div>\n\t\t\t\t\t</div>\n\t\t\t\t\t<div id=\"err_captcha\" class=\"error\" style=\"display:none;\">Please enter the Code.</div>\n\t\t\t\t\t<input type=\"submit\" title=\"Sign in\" alt=\"Sign in\" value=\"Sign in\" class=\"btn_global\" id=\"l5f.login\">\n\t\t\t\t\t<div class=\"check_info\">\n\t\t\t\t\t\t<div class=\"login_check\">\n\t\t\t\t\t\t\t<span class=\"login_check_box\">\n\t\t\t\t\t\t\t\t<input type=\"checkbox\" id=\"login_chk\" name=\"nvlong\" class=\"\" value=\"off\">\n\t\t\t\t\t\t\t\t<label for=\"login_chk\" id=\"label_login_chk\" class=\"sp \">Stay Signed in</label>\n\t\t\t\t\t\t\t</span>\n\t\t\t\t\t\t\t<div class=\"ly_v2\" id=\"persist_usage\" style=\"display:none;\">\n\t\t\t\t\t\t\t\t<div class=\"ly_box\">\n\t\t\t\t\t\t\t\t\t<p>Please use your own PC for keeping your account secure. &nbsp;&nbsp;<a href=\"https://help.naver.com/support/contents/contents.nhn?serviceNo=532&amp;categoryNo=1523\" target=\"_blank\" class=\"sp btn_check_help\">View help</a></p>\n\t\t\t\t\t\t\t\t</div>\n\t\t\t\t\t\t\t\t<span class=\"sp ly_point\"></span>\n\t\t\t\t\t\t\t</div>\n\t\t\t\t\t\t</div>\n\t\t\t\t\t\t<div class=\"pc_check\">\n\t\t\t\t\t\t\t<span class=\"ip_check\">\n\t\t\t\t\t\t\t\t<a href=\"/login/ext/help_ip3.html\" target=\"_blank\" id=\"ipguide\" title=\"\">IP Security</a>\n\t\t\t\t\t\t\t\t<span class=\"ip_ch\">\n\t\t\t\t\t\t\t\t\t<input type=\"checkbox\" id=\"ip_on\" value=\"off\" class=\"\">\n\t\t\t\t\t\t\t\t\t<label for=\"ip_on\" id=\"label_ip_on\" class=\"sp on\"><span class=\"blind\">on</span></label>\n\t\t\t\t\t\t\t\t</span>\n\t\t\t\t\t\t\t</span>\n\t\t\t\t\t\t\t<span class=\"bar\">|</span>\n\t\t\t\t\t\t\t<div class=\"dis_di\">\n\t\t\t\t\t\t\t\t<a href=\"#\" id=\"log.otn\" title=\"One-time Number\">One-time Number</a><a href=\"#\" id=\"log.otnhelp\" title=\"Help\" class=\"btn_help_cover\"><span class=\"sp btn_help\"></span><span class=\"blind\">Help</span></a>\n\t\t\t\t\t\t\t\t<div class=\"ly\" id=\"onetime_usage\" style=\"display:none;\">\n\t\t\t\t\t\t\t\t\t<div class=\"ly_box\">\n\t\t\t\t\t\t\t\t\t\t<p>When you enter One-time Number generated by Naver app, you can sign in easily and more secure.</p>\n\t\t\t\t\t\t\t\t\t</div>\n\t\t\t\t\t\t\t\t\t<span class=\"sp ly_point\"></span>\n\t\t\t\t\t\t\t\t</div>\n\t\t\t\t\t\t\t</div>\n\t\t\t\t\t\t</div>\n\t\t\t\t\t</div>\n\t\t\t\t</fieldset>\n\t\t\t</form>\n\t\t\t<div class=\"position_a\">\n\t\t\t\t<div class=\"find_info\">\n\t\t\t\t\t<p>Forgot your <a target=\"_blank\" id=\"idinquiry\" href=\"https://nid.naver.com/user2/api/route.nhn?m=routeIdInquiry&amp;lang=en_US\">Username</a> or <a target=\"_blank\" id=\"pwinquiry\" href=\"https://nid.naver.com/user2/api/route.nhn?m=routePwInquiry&amp;lang=en_US\">Password?</a> <span class=\"bar\">|</span> <a target=\"_blank\" id=\"join\" href=\"https://nid.naver.com/user2/V2Join.nhn?m=agree&amp;lang=en_US\">Sign up</a>\n\t\t\t\t</p></div>\n\t\t\t</div>\n\t\t</div>\n\t\t<!-- //content -->\n\t</div>\n\t<!-- //container -->\n\t<!-- footer -->\n\t<div id=\"footer\">\n\t\t<address><em><a target=\"_blank\" href=\"http://www.navercorp.com\" class=\"logo\" id=\"fot.naver\"><span class=\"blind\">naver</span></a></em><em class=\"copy\">Copyright</em> <em class=\"u_cri\">©</em> <a target=\"_blank\" href=\"http://www.navercorp.com\" class=\"u_cra\" id=\"fot.navercorp\">NAVER Corp.</a> <span class=\"all_r\">All Rights Reserved.</span></address>\t\n\t</div>\n\t<!-- //footer -->\n</div>\n<input type=\"hidden\" id=\"nclicks_nsc\" name=\"nclicks_nsc\" value=\"nid.login_en\">\n<input type=\"hidden\" id=\"ncaptchaSplit\" name=\"ncaptchaSplit\" value=\"split\">\n<input type=\"hidden\" id=\"id_error_msg\" name=\"id_error_msg\" value=\"Enter your username!\">\n<input type=\"hidden\" id=\"pw_error_msg\" name=\"pw_error_msg\" value=\"Enter your password!\">\n<input type=\"hidden\" id=\"locale\" name=\"locale\" value=\"en_US\">\n<input type=\"hidden\" id=\"img_captcha_text\" name=\"img_captcha_text\" value=\"Please enter the code shown below.\">\n<input type=\"hidden\" id=\"sound_captcha_text\" name=\"sound_captcha_text\" value=\"Please enter the number you hear.\">\n<script type=\"text/javascript\" src=\"/login/js/bvsd.1.3.4.min.js\"></script>\n<script type=\"text/javascript\" src=\"/login/js/default/common200225.js?v=20200714\"></script>\n<script type=\"text/javascript\" src=\"/login/js/default/captcha.js\"></script>\n<div id=\"nv_stat\" style=\"display:none;\">60</div>\n\n</body></html>\n"
    }
   ],
   "source": [
    "\n",
    "import time\n",
    "from selenium import webdriver\n",
    "from selenium.webdriver.common.keys import Keys\n",
    "browser = webdriver.Chrome('/Users/daheekim/Desktop/VisualStudio/Web-scraping-crawling-/Selenium/chromedriver')\n",
    "\n",
    "#1. go to naver\n",
    "browser.get(\"http://naver.com\")\n",
    "\n",
    "#2. click login button\n",
    "elem = browser.find_element_by_class_name(\"link_login\")\n",
    "elem.click()\n",
    "\n",
    "#3. enter id and password\n",
    "browser.find_element_by_id(\"id\").send_keys(\"naver)id\")\n",
    "browser.find_element_by_id(\"pw\").send_keys(\"dddd\")\n",
    "\n",
    "#4. loging button click\n",
    "browser.find_element_by_id(\"log.login\").click()\n",
    "time.sleep(3)\n",
    "\n",
    "#5. new id enter\n",
    "browser.find_element_by_id(\"id\").clear()\n",
    "browser.find_element_by_id(\"id\").send_keys(\"trucompany2\")\n",
    "\n",
    "# 6. html info extract\n",
    "print(browser.page_source)\n",
    "\n",
    "# 7. cloase browser\n",
    "#browser.close() # current tap close\n",
    "browser.quit() # whole browser close"
   ]
  },
  {
   "cell_type": "markdown",
   "metadata": {},
   "source": []
  }
 ]
}