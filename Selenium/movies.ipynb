{
 "metadata": {
  "language_info": {
   "codemirror_mode": {
    "name": "ipython",
    "version": 3
   },
   "file_extension": ".py",
   "mimetype": "text/x-python",
   "name": "python",
   "nbconvert_exporter": "python",
   "pygments_lexer": "ipython3",
   "version": "3.8.5-final"
  },
  "orig_nbformat": 2,
  "kernelspec": {
   "name": "python_defaultSpec_1598374674353",
   "display_name": "Python 3.8.5 64-bit"
  }
 },
 "nbformat": 4,
 "nbformat_minor": 2,
 "cells": [
  {
   "cell_type": "markdown",
   "metadata": {},
   "source": [
    "# Google Movie\n",
    "- display only discounted Movie\n",
    "- scroll the page to see all movies"
   ]
  },
  {
   "cell_type": "code",
   "execution_count": 1,
   "metadata": {
    "tags": []
   },
   "outputs": [
    {
     "output_type": "stream",
     "name": "stdout",
     "text": "End of Scroll\n"
    }
   ],
   "source": [
    "from bs4 import BeautifulSoup\n",
    "from selenium import webdriver\n",
    "\n",
    "url = \"https://play.google.com/store/movies/top\"\n",
    "driver = webdriver.Chrome('/Users/daheekim/Desktop/VisualStudio/Web-scraping-crawling-/Selenium/chromedriver') \n",
    "driver.maximize_window()\n",
    "driver.get(url)\n",
    "\n",
    "driver.find_element_by_class_name(\"W9yFB\").click()\n",
    "\n",
    "\n",
    "import time\n",
    "interval = 2 # scroll down every 2 seconds\n",
    "\n",
    "# save current page height\n",
    "prev_height = driver.execute_script(\"return document.body.scrollHeight\")\n",
    "\n",
    "while True:\n",
    "    # scroll down\n",
    "    driver.execute_script(\"window.scrollTo(0, document.body.scrollHeight)\")\n",
    "    # page loading \n",
    "    time.sleep(interval)\n",
    "    # save current page height\n",
    "    curr_height = driver.execute_script(\"return document.body.scrollHeight\")\n",
    "    if curr_height == prev_height:\n",
    "        break\n",
    "    prev_height = curr_height\n",
    "print(\"End of Scroll\")"
   ]
  },
  {
   "cell_type": "code",
   "execution_count": 19,
   "metadata": {
    "tags": []
   },
   "outputs": [
    {
     "output_type": "stream",
     "name": "stdout",
     "text": "230\ntitle:  Blumhouse’s Fantasy Island (Unrated Edition)\nOrigina price: $5.99/ Discount price: $0.99\nlink:  https://play.google.com/store/movies/details/Blumhouse_s_Fantasy_Island_Unrated_Edition?id=MZopRJLu4pg.P\n----------------------------------------------------------------------------------------------------\ntitle:  The Outpost\nOrigina price: $6.99/ Discount price: $3.99\nlink:  https://play.google.com/store/movies/details/The_Outpost?id=TAznUxqGVZM.P\n----------------------------------------------------------------------------------------------------\ntitle:  Blumhouse’s Fantasy Island (Unrated Edition)\nOrigina price: $5.99/ Discount price: $0.99\nlink:  https://play.google.com/store/movies/details/Blumhouse_s_Fantasy_Island_Unrated_Edition?id=MZopRJLu4pg.P\n----------------------------------------------------------------------------------------------------\ntitle:  The Outpost\nOrigina price: $6.99/ Discount price: $3.99\nlink:  https://play.google.com/store/movies/details/The_Outpost?id=TAznUxqGVZM.P\n----------------------------------------------------------------------------------------------------\ntitle:  Birds Of Prey And the Fantabulous Emancipation of One Harley Quinn\nOrigina price: $19.99/ Discount price: $9.99\nlink:  https://play.google.com/store/movies/details/Birds_Of_Prey_And_the_Fantabulous_Emancipation_of?id=mNOSA1gKjw4.P\n----------------------------------------------------------------------------------------------------\ntitle:  The Gentlemen\nOrigina price: $5.99/ Discount price: $4.99\nlink:  https://play.google.com/store/movies/details/The_Gentlemen?id=LJlnSAPsFSU.P\n----------------------------------------------------------------------------------------------------\ntitle:  Joker\nOrigina price: $14.99/ Discount price: $9.99\nlink:  https://play.google.com/store/movies/details/Joker?id=v99qLnoiof8.P\n----------------------------------------------------------------------------------------------------\ntitle:  Venom\nOrigina price: $14.99/ Discount price: $9.99\nlink:  https://play.google.com/store/movies/details/Venom?id=s8dGvpxGuCs\n----------------------------------------------------------------------------------------------------\ntitle:  Finding The Way Back\nOrigina price: $19.99/ Discount price: $10.99\nlink:  https://play.google.com/store/movies/details/Finding_The_Way_Back?id=hqIA7u_ydrc.P\n----------------------------------------------------------------------------------------------------\ntitle:  Capone\nOrigina price: $6.99/ Discount price: $3.99\nlink:  https://play.google.com/store/movies/details/Capone?id=i9uzSG5X6aQ.P\n----------------------------------------------------------------------------------------------------\ntitle:  The Dark Knight Trilogy\nOrigina price: $69.99/ Discount price: $19.99\nlink:  https://play.google.com/store/movies/details/The_Dark_Knight_Trilogy?id=YpsOEIv7Zzc\n----------------------------------------------------------------------------------------------------\ntitle:  Terminator: Dark Fate\nOrigina price: $19.99/ Discount price: $14.99\nlink:  https://play.google.com/store/movies/details/Terminator_Dark_Fate?id=ZQRzVmHFaKw.P\n----------------------------------------------------------------------------------------------------\ntitle:  Suicide Squad (Extended Cut)\nOrigina price: $14.99/ Discount price: $6.99\nlink:  https://play.google.com/store/movies/details/Suicide_Squad_Extended_Cut?id=YNRApfhjZCY\n----------------------------------------------------------------------------------------------------\ntitle:  First Cow\nOrigina price: $5.99/ Discount price: $3.99\nlink:  https://play.google.com/store/movies/details/First_Cow?id=y0VKX-TcCOA.P\n----------------------------------------------------------------------------------------------------\ntitle:  Star Wars: The Rise of Skywalker\nOrigina price: $5.99/ Discount price: $3.99\nlink:  https://play.google.com/store/movies/details/Star_Wars_The_Rise_of_Skywalker?id=AXhwoyvhWz0.P\n----------------------------------------------------------------------------------------------------\ntitle:  Superman: Red Son\nOrigina price: $5.99/ Discount price: $3.99\nlink:  https://play.google.com/store/movies/details/Superman_Red_Son?id=gaihqWyQ1oU.P\n----------------------------------------------------------------------------------------------------\ntitle:  Blumhouse's Fantasy Island\nOrigina price: $5.99/ Discount price: $0.99\nlink:  https://play.google.com/store/movies/details/Blumhouse_s_Fantasy_Island?id=RrLz7abrWOA.P\n----------------------------------------------------------------------------------------------------\n"
    }
   ],
   "source": [
    "import requests\n",
    "from bs4 import BeautifulSoup\n",
    "\n",
    "soup = BeautifulSoup(driver.page_source, \"lxml\")\n",
    "\n",
    "movies = soup.find_all(\"div\", attrs={\"class\":\"Vpfmgd\"})\n",
    "print(len(movies))\n",
    "\n",
    "for movie in movies:\n",
    "    title = movie.find(\"div\", attrs={\"class\":\"WsMG1c nnK0zc\"}).get_text()\n",
    "    prev_price = movie.find(\"span\", attrs={\"class\":\"SUZt4c djCuy\"})\n",
    "    if prev_price:\n",
    "        prev_price = prev_price.get_text()\n",
    "    else:\n",
    "        continue\n",
    "    now_price = movie.find(\"span\", attrs={\"class\":\"VfPpfd ZdBevf i5DZme\"}).get_text()\n",
    "    link = movie.find(\"a\", attrs={\"class\":\"JC71ub\"})[\"href\"]\n",
    "    print(\"title: \",title)\n",
    "    print(\"Origina price: {}/ Discount price: {}\".format(prev_price, now_price))\n",
    "    print(\"link: \", \"https://play.google.com\" + link)\n",
    "    print(\"-\" * 100)"
   ]
  },
  {
   "cell_type": "code",
   "execution_count": null,
   "metadata": {},
   "outputs": [],
   "source": [
    "# 지정한 위치로 스크롤 내리기\n",
    "# 모니터(해상도) 높이인 1080 위치로 스크롤 내리기\n",
    "#browser.execute_script(\"window.scrollTo(0, 1080)\") # 1920 x 1080\n",
    "#browser.execute_script(\"window.scrollTo(0, 2080)\")\n",
    "\n",
    "# 화면 가장 아래로 스크롤 내리기\n",
    "# browser.execute_script(\"window.scrollTo(0, document.body.scrollHeight)\")"
   ]
  },
  {
   "cell_type": "markdown",
   "metadata": {},
   "source": [
    "# Headless\n",
    "- when we open new chrome page, it takes lot of memory. we want to process without seeing chrome webpage"
   ]
  },
  {
   "cell_type": "code",
   "execution_count": 1,
   "metadata": {
    "tags": []
   },
   "outputs": [
    {
     "output_type": "stream",
     "name": "stdout",
     "text": "End of Scroll\n"
    },
    {
     "output_type": "execute_result",
     "data": {
      "text/plain": "True"
     },
     "metadata": {},
     "execution_count": 1
    }
   ],
   "source": [
    "from bs4 import BeautifulSoup\n",
    "from selenium import webdriver\n",
    "\n",
    "options = webdriver.ChromeOptions()\n",
    "options.headless = True\n",
    "options.add_argument(\"window-size=1920x1080\")\n",
    "options.add_argument(\"user-agent=Mozilla/5.0 (Macintosh; Intel Mac OS X 10_15_5) AppleWebKit/537.36 (KHTML, like Gecko) Chrome/84.0.4147.135 Safari/537.36\")\n",
    "\n",
    "url = \"https://play.google.com/store/movies/top\"\n",
    "driver = webdriver.Chrome('/Users/daheekim/Desktop/VisualStudio/Web-scraping-crawling-/Selenium/chromedriver',options = options) \n",
    "driver.maximize_window()\n",
    "driver.get(url)\n",
    "\n",
    "driver.find_element_by_class_name(\"W9yFB\").click()\n",
    "\n",
    "\n",
    "import time\n",
    "interval = 2 # scroll down every 2 seconds\n",
    "\n",
    "# save current page height\n",
    "prev_height = driver.execute_script(\"return document.body.scrollHeight\")\n",
    "\n",
    "while True:\n",
    "    # scroll down\n",
    "    driver.execute_script(\"window.scrollTo(0, document.body.scrollHeight)\")\n",
    "    # page loading \n",
    "    time.sleep(interval)\n",
    "    # save current page height\n",
    "    curr_height = driver.execute_script(\"return document.body.scrollHeight\")\n",
    "    if curr_height == prev_height:\n",
    "        break\n",
    "    prev_height = curr_height\n",
    "print(\"End of Scroll\")\n",
    "\n",
    "#make screenshot of the page\n",
    "driver.get_screenshot_as_file(\"google_movie.png\")"
   ]
  }
 ]
}